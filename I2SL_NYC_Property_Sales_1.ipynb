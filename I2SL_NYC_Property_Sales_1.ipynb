{
  "nbformat": 4,
  "nbformat_minor": 0,
  "metadata": {
    "colab": {
      "name": "I2SL_NYC_Property_Sales.ipynb",
      "provenance": [],
      "collapsed_sections": []
    },
    "kernelspec": {
      "name": "python3",
      "display_name": "Python 3"
    }
  },
  "cells": [
    {
      "cell_type": "markdown",
      "metadata": {
        "id": "_YPXuNM_8wZc",
        "colab_type": "text"
      },
      "source": [
        "# NYC Property Sales\n",
        "\n",
        "A year's worth of properties sold on the NYC real estate market.\n",
        "\n",
        "From https://www.kaggle.com/new-york-city/nyc-property-sales\n",
        "\n",
        "_Inspiration_   \n",
        "\n",
        "What can you discover about New York City real estate by looking at a year's worth of raw transaction records? Can you spot trends in the market, or build a model that predicts sale value in the future?\n",
        "\n",
        "_Step 1 Look at and understand the data_  \n",
        "\n",
        "We may have many questions about these data but the first step in statistical learning is exploratory data analysis (EDA). \n",
        "\n",
        "## Dataset Description\n",
        "\n",
        "Properties sold in New York City over a 12-month period from September 2016 to September 2017.\n",
        "\n",
        "### Context\n",
        "This dataset is a record of every building or building unit (apartment, etc.) sold in the New York City property market over a 12-month period.\n",
        "\n",
        "### Content\n",
        "This dataset contains the location, address, type, sale price, and sale date of building units sold. A reference on the trickier fields:\n",
        "\n",
        "BOROUGH: A digit code for the borough the property is located in; in order these are Manhattan (1), Bronx (2), Brooklyn (3), Queens (4), and Staten Island (5).  \n",
        "\n",
        "BLOCK; LOT: The combination of borough, block, and lot forms a unique key for property in New York City. Commonly called a BBL.\n",
        "BUILDING CLASS AT PRESENT and BUILDING CLASS AT TIME OF SALE: The type of building at various points in time. \n",
        "\n",
        "\n"
      ]
    },
    {
      "cell_type": "code",
      "metadata": {
        "id": "8W66xcw7_aKt",
        "colab_type": "code",
        "colab": {
          "base_uri": "https://localhost:8080/",
          "height": 51
        },
        "outputId": "78836b70-8057-457f-a7d4-9b9e2c91c191"
      },
      "source": [
        "# import libraries\n",
        "'''\n",
        "It is good to stick to convention unless there is a good reason to break it\n",
        "a statement like\n",
        "import pandas as pandybear\n",
        "will cause issues\n",
        "'''\n",
        "import pandas as pd\n",
        "import pandas.util.testing as tm\n",
        "import numpy as np\n",
        "import matplotlib.pyplot as plt\n",
        "%matplotlib inline\n",
        "import seaborn as sns\n",
        "import matplotlib.cbook"
      ],
      "execution_count": null,
      "outputs": [
        {
          "output_type": "stream",
          "text": [
            "/usr/local/lib/python3.6/dist-packages/ipykernel_launcher.py:9: FutureWarning: pandas.util.testing is deprecated. Use the functions in the public API at pandas.testing instead.\n",
            "  if __name__ == '__main__':\n"
          ],
          "name": "stderr"
        }
      ]
    },
    {
      "cell_type": "markdown",
      "metadata": {
        "id": "rhwkn831lrD8",
        "colab_type": "text"
      },
      "source": [
        "To use H2O.ai we need to\n",
        "\n",
        "1. Install Java\n",
        "2. Install H2O\n",
        "3. Import H2O\n"
      ]
    },
    {
      "cell_type": "code",
      "metadata": {
        "id": "JQSyI9eNlkYV",
        "colab_type": "code",
        "colab": {
          "base_uri": "https://localhost:8080/",
          "height": 221
        },
        "outputId": "3e0de6e0-2166-46dd-e850-dbcbf87f0c4d"
      },
      "source": [
        "! apt-get install default-jre\n",
        "!java -version"
      ],
      "execution_count": null,
      "outputs": [
        {
          "output_type": "stream",
          "text": [
            "Reading package lists... Done\n",
            "Building dependency tree       \n",
            "Reading state information... Done\n",
            "default-jre is already the newest version (2:1.11-68ubuntu1~18.04.1).\n",
            "default-jre set to manually installed.\n",
            "The following package was automatically installed and is no longer required:\n",
            "  libnvidia-common-440\n",
            "Use 'apt autoremove' to remove it.\n",
            "0 upgraded, 0 newly installed, 0 to remove and 39 not upgraded.\n",
            "openjdk version \"11.0.8\" 2020-07-14\n",
            "OpenJDK Runtime Environment (build 11.0.8+10-post-Ubuntu-0ubuntu118.04.1)\n",
            "OpenJDK 64-Bit Server VM (build 11.0.8+10-post-Ubuntu-0ubuntu118.04.1, mixed mode, sharing)\n"
          ],
          "name": "stdout"
        }
      ]
    },
    {
      "cell_type": "code",
      "metadata": {
        "id": "tuaJBVunmCQf",
        "colab_type": "code",
        "colab": {
          "base_uri": "https://localhost:8080/",
          "height": 340
        },
        "outputId": "a458b8ff-863b-4db7-d3ef-b49e36e08122"
      },
      "source": [
        "! pip install h2o"
      ],
      "execution_count": null,
      "outputs": [
        {
          "output_type": "stream",
          "text": [
            "Collecting h2o\n",
            "\u001b[?25l  Downloading https://files.pythonhosted.org/packages/b7/83/53eb19ffd83e99ccd77bd1ee9f87b2a663f75f5cb725cdac3eaa004de197/h2o-3.30.1.2.tar.gz (129.4MB)\n",
            "\u001b[K     |████████████████████████████████| 129.4MB 69kB/s \n",
            "\u001b[?25hRequirement already satisfied: requests in /usr/local/lib/python3.6/dist-packages (from h2o) (2.23.0)\n",
            "Requirement already satisfied: tabulate in /usr/local/lib/python3.6/dist-packages (from h2o) (0.8.7)\n",
            "Requirement already satisfied: future in /usr/local/lib/python3.6/dist-packages (from h2o) (0.16.0)\n",
            "Collecting colorama>=0.3.8\n",
            "  Downloading https://files.pythonhosted.org/packages/c9/dc/45cdef1b4d119eb96316b3117e6d5708a08029992b2fee2c143c7a0a5cc5/colorama-0.4.3-py2.py3-none-any.whl\n",
            "Requirement already satisfied: idna<3,>=2.5 in /usr/local/lib/python3.6/dist-packages (from requests->h2o) (2.10)\n",
            "Requirement already satisfied: urllib3!=1.25.0,!=1.25.1,<1.26,>=1.21.1 in /usr/local/lib/python3.6/dist-packages (from requests->h2o) (1.24.3)\n",
            "Requirement already satisfied: certifi>=2017.4.17 in /usr/local/lib/python3.6/dist-packages (from requests->h2o) (2020.6.20)\n",
            "Requirement already satisfied: chardet<4,>=3.0.2 in /usr/local/lib/python3.6/dist-packages (from requests->h2o) (3.0.4)\n",
            "Building wheels for collected packages: h2o\n",
            "  Building wheel for h2o (setup.py) ... \u001b[?25l\u001b[?25hdone\n",
            "  Created wheel for h2o: filename=h2o-3.30.1.2-py2.py3-none-any.whl size=129446949 sha256=7f674ab128c49a4b9424167feff32523e9c063f4f0a78543b0a6c619fa90b2ee\n",
            "  Stored in directory: /root/.cache/pip/wheels/c6/be/83/a33a3c1c97fce1d136222bf4ed6d79da405ef6103f5b434c1e\n",
            "Successfully built h2o\n",
            "Installing collected packages: colorama, h2o\n",
            "Successfully installed colorama-0.4.3 h2o-3.30.1.2\n"
          ],
          "name": "stdout"
        }
      ]
    },
    {
      "cell_type": "code",
      "metadata": {
        "id": "v2hxlmXD_47E",
        "colab_type": "code",
        "colab": {
          "base_uri": "https://localhost:8080/",
          "height": 408
        },
        "outputId": "585353bc-65d9-4df5-fc43-e1e3661cd074"
      },
      "source": [
        "# Disable the limit of columns and rows\n",
        "pd.options.display.max_columns = None\n",
        "pd.options.display.max_rows = None\n",
        "df = pd.read_csv(\"https://raw.githubusercontent.com/nikbearbrown/Google_Colab/master/data/nyc-rolling-sales.csv\")\n",
        "df.head()"
      ],
      "execution_count": null,
      "outputs": [
        {
          "output_type": "execute_result",
          "data": {
            "text/html": [
              "<div>\n",
              "<style scoped>\n",
              "    .dataframe tbody tr th:only-of-type {\n",
              "        vertical-align: middle;\n",
              "    }\n",
              "\n",
              "    .dataframe tbody tr th {\n",
              "        vertical-align: top;\n",
              "    }\n",
              "\n",
              "    .dataframe thead th {\n",
              "        text-align: right;\n",
              "    }\n",
              "</style>\n",
              "<table border=\"1\" class=\"dataframe\">\n",
              "  <thead>\n",
              "    <tr style=\"text-align: right;\">\n",
              "      <th></th>\n",
              "      <th>Unnamed: 0</th>\n",
              "      <th>BOROUGH</th>\n",
              "      <th>NEIGHBORHOOD</th>\n",
              "      <th>BUILDING CLASS CATEGORY</th>\n",
              "      <th>TAX CLASS AT PRESENT</th>\n",
              "      <th>BLOCK</th>\n",
              "      <th>LOT</th>\n",
              "      <th>EASE-MENT</th>\n",
              "      <th>BUILDING CLASS AT PRESENT</th>\n",
              "      <th>ADDRESS</th>\n",
              "      <th>APARTMENT NUMBER</th>\n",
              "      <th>ZIP CODE</th>\n",
              "      <th>RESIDENTIAL UNITS</th>\n",
              "      <th>COMMERCIAL UNITS</th>\n",
              "      <th>TOTAL UNITS</th>\n",
              "      <th>LAND SQUARE FEET</th>\n",
              "      <th>GROSS SQUARE FEET</th>\n",
              "      <th>YEAR BUILT</th>\n",
              "      <th>TAX CLASS AT TIME OF SALE</th>\n",
              "      <th>BUILDING CLASS AT TIME OF SALE</th>\n",
              "      <th>SALE PRICE</th>\n",
              "      <th>SALE DATE</th>\n",
              "    </tr>\n",
              "  </thead>\n",
              "  <tbody>\n",
              "    <tr>\n",
              "      <th>0</th>\n",
              "      <td>4</td>\n",
              "      <td>1</td>\n",
              "      <td>ALPHABET CITY</td>\n",
              "      <td>07 RENTALS - WALKUP APARTMENTS</td>\n",
              "      <td>2A</td>\n",
              "      <td>392</td>\n",
              "      <td>6</td>\n",
              "      <td></td>\n",
              "      <td>C2</td>\n",
              "      <td>153 AVENUE B</td>\n",
              "      <td></td>\n",
              "      <td>10009</td>\n",
              "      <td>5</td>\n",
              "      <td>0</td>\n",
              "      <td>5</td>\n",
              "      <td>1633</td>\n",
              "      <td>6440</td>\n",
              "      <td>1900</td>\n",
              "      <td>2</td>\n",
              "      <td>C2</td>\n",
              "      <td>6625000</td>\n",
              "      <td>2017-07-19 00:00:00</td>\n",
              "    </tr>\n",
              "    <tr>\n",
              "      <th>1</th>\n",
              "      <td>5</td>\n",
              "      <td>1</td>\n",
              "      <td>ALPHABET CITY</td>\n",
              "      <td>07 RENTALS - WALKUP APARTMENTS</td>\n",
              "      <td>2</td>\n",
              "      <td>399</td>\n",
              "      <td>26</td>\n",
              "      <td></td>\n",
              "      <td>C7</td>\n",
              "      <td>234 EAST 4TH   STREET</td>\n",
              "      <td></td>\n",
              "      <td>10009</td>\n",
              "      <td>28</td>\n",
              "      <td>3</td>\n",
              "      <td>31</td>\n",
              "      <td>4616</td>\n",
              "      <td>18690</td>\n",
              "      <td>1900</td>\n",
              "      <td>2</td>\n",
              "      <td>C7</td>\n",
              "      <td>-</td>\n",
              "      <td>2016-12-14 00:00:00</td>\n",
              "    </tr>\n",
              "    <tr>\n",
              "      <th>2</th>\n",
              "      <td>6</td>\n",
              "      <td>1</td>\n",
              "      <td>ALPHABET CITY</td>\n",
              "      <td>07 RENTALS - WALKUP APARTMENTS</td>\n",
              "      <td>2</td>\n",
              "      <td>399</td>\n",
              "      <td>39</td>\n",
              "      <td></td>\n",
              "      <td>C7</td>\n",
              "      <td>197 EAST 3RD   STREET</td>\n",
              "      <td></td>\n",
              "      <td>10009</td>\n",
              "      <td>16</td>\n",
              "      <td>1</td>\n",
              "      <td>17</td>\n",
              "      <td>2212</td>\n",
              "      <td>7803</td>\n",
              "      <td>1900</td>\n",
              "      <td>2</td>\n",
              "      <td>C7</td>\n",
              "      <td>-</td>\n",
              "      <td>2016-12-09 00:00:00</td>\n",
              "    </tr>\n",
              "    <tr>\n",
              "      <th>3</th>\n",
              "      <td>7</td>\n",
              "      <td>1</td>\n",
              "      <td>ALPHABET CITY</td>\n",
              "      <td>07 RENTALS - WALKUP APARTMENTS</td>\n",
              "      <td>2B</td>\n",
              "      <td>402</td>\n",
              "      <td>21</td>\n",
              "      <td></td>\n",
              "      <td>C4</td>\n",
              "      <td>154 EAST 7TH STREET</td>\n",
              "      <td></td>\n",
              "      <td>10009</td>\n",
              "      <td>10</td>\n",
              "      <td>0</td>\n",
              "      <td>10</td>\n",
              "      <td>2272</td>\n",
              "      <td>6794</td>\n",
              "      <td>1913</td>\n",
              "      <td>2</td>\n",
              "      <td>C4</td>\n",
              "      <td>3936272</td>\n",
              "      <td>2016-09-23 00:00:00</td>\n",
              "    </tr>\n",
              "    <tr>\n",
              "      <th>4</th>\n",
              "      <td>8</td>\n",
              "      <td>1</td>\n",
              "      <td>ALPHABET CITY</td>\n",
              "      <td>07 RENTALS - WALKUP APARTMENTS</td>\n",
              "      <td>2A</td>\n",
              "      <td>404</td>\n",
              "      <td>55</td>\n",
              "      <td></td>\n",
              "      <td>C2</td>\n",
              "      <td>301 EAST 10TH   STREET</td>\n",
              "      <td></td>\n",
              "      <td>10009</td>\n",
              "      <td>6</td>\n",
              "      <td>0</td>\n",
              "      <td>6</td>\n",
              "      <td>2369</td>\n",
              "      <td>4615</td>\n",
              "      <td>1900</td>\n",
              "      <td>2</td>\n",
              "      <td>C2</td>\n",
              "      <td>8000000</td>\n",
              "      <td>2016-11-17 00:00:00</td>\n",
              "    </tr>\n",
              "  </tbody>\n",
              "</table>\n",
              "</div>"
            ],
            "text/plain": [
              "   Unnamed: 0  BOROUGH   NEIGHBORHOOD  \\\n",
              "0           4        1  ALPHABET CITY   \n",
              "1           5        1  ALPHABET CITY   \n",
              "2           6        1  ALPHABET CITY   \n",
              "3           7        1  ALPHABET CITY   \n",
              "4           8        1  ALPHABET CITY   \n",
              "\n",
              "                       BUILDING CLASS CATEGORY TAX CLASS AT PRESENT  BLOCK  \\\n",
              "0  07 RENTALS - WALKUP APARTMENTS                                2A    392   \n",
              "1  07 RENTALS - WALKUP APARTMENTS                                 2    399   \n",
              "2  07 RENTALS - WALKUP APARTMENTS                                 2    399   \n",
              "3  07 RENTALS - WALKUP APARTMENTS                                2B    402   \n",
              "4  07 RENTALS - WALKUP APARTMENTS                                2A    404   \n",
              "\n",
              "   LOT EASE-MENT BUILDING CLASS AT PRESENT                 ADDRESS  \\\n",
              "0    6                                  C2            153 AVENUE B   \n",
              "1   26                                  C7   234 EAST 4TH   STREET   \n",
              "2   39                                  C7   197 EAST 3RD   STREET   \n",
              "3   21                                  C4     154 EAST 7TH STREET   \n",
              "4   55                                  C2  301 EAST 10TH   STREET   \n",
              "\n",
              "  APARTMENT NUMBER  ZIP CODE  RESIDENTIAL UNITS  COMMERCIAL UNITS  \\\n",
              "0                      10009                  5                 0   \n",
              "1                      10009                 28                 3   \n",
              "2                      10009                 16                 1   \n",
              "3                      10009                 10                 0   \n",
              "4                      10009                  6                 0   \n",
              "\n",
              "   TOTAL UNITS LAND SQUARE FEET GROSS SQUARE FEET  YEAR BUILT  \\\n",
              "0            5             1633              6440        1900   \n",
              "1           31             4616             18690        1900   \n",
              "2           17             2212              7803        1900   \n",
              "3           10             2272              6794        1913   \n",
              "4            6             2369              4615        1900   \n",
              "\n",
              "   TAX CLASS AT TIME OF SALE BUILDING CLASS AT TIME OF SALE SALE PRICE  \\\n",
              "0                          2                             C2    6625000   \n",
              "1                          2                             C7        -     \n",
              "2                          2                             C7        -     \n",
              "3                          2                             C4    3936272   \n",
              "4                          2                             C2    8000000   \n",
              "\n",
              "             SALE DATE  \n",
              "0  2017-07-19 00:00:00  \n",
              "1  2016-12-14 00:00:00  \n",
              "2  2016-12-09 00:00:00  \n",
              "3  2016-09-23 00:00:00  \n",
              "4  2016-11-17 00:00:00  "
            ]
          },
          "metadata": {
            "tags": []
          },
          "execution_count": 4
        }
      ]
    },
    {
      "cell_type": "markdown",
      "metadata": {
        "id": "q7g7ojYo8wjk",
        "colab_type": "text"
      },
      "source": [
        "## Build a data dictionary\n",
        "\n",
        "Many of these fields are fairly obvious from their names. ADDRESS, ZIP CODE, etc.  Others are less so. BUILDING CLASS AT PRESENT - what does that mean? TAX CLASS AT PRESENT C2 - what does that mean?\n",
        "\n",
        "Note that the sale price (which is probably in US dollars) is based on a sale date.  If one were trying to build a statistical model to predict price this could be an issue.  An apartment last sold in 1900 would reflect a very undervalued price.\n",
        "\n",
        "*Class Discussion*\n",
        "\n",
        "How would you address the undervalued price issue? Write up your thoughts in the class notes. Your class notes must be uploaded by 11:59PM the day of the lecture. Class notes are 5 points every lecture."
      ]
    },
    {
      "cell_type": "code",
      "metadata": {
        "id": "PdhXSGmGD-ZO",
        "colab_type": "code",
        "colab": {
          "base_uri": "https://localhost:8080/",
          "height": 297
        },
        "outputId": "c09bcae8-00a0-4acd-df69-34b983bb483d"
      },
      "source": [
        "# Descriptive statistics\n",
        "df.describe()\n"
      ],
      "execution_count": null,
      "outputs": [
        {
          "output_type": "execute_result",
          "data": {
            "text/html": [
              "<div>\n",
              "<style scoped>\n",
              "    .dataframe tbody tr th:only-of-type {\n",
              "        vertical-align: middle;\n",
              "    }\n",
              "\n",
              "    .dataframe tbody tr th {\n",
              "        vertical-align: top;\n",
              "    }\n",
              "\n",
              "    .dataframe thead th {\n",
              "        text-align: right;\n",
              "    }\n",
              "</style>\n",
              "<table border=\"1\" class=\"dataframe\">\n",
              "  <thead>\n",
              "    <tr style=\"text-align: right;\">\n",
              "      <th></th>\n",
              "      <th>Unnamed: 0</th>\n",
              "      <th>BOROUGH</th>\n",
              "      <th>BLOCK</th>\n",
              "      <th>LOT</th>\n",
              "      <th>ZIP CODE</th>\n",
              "      <th>RESIDENTIAL UNITS</th>\n",
              "      <th>COMMERCIAL UNITS</th>\n",
              "      <th>TOTAL UNITS</th>\n",
              "      <th>YEAR BUILT</th>\n",
              "      <th>TAX CLASS AT TIME OF SALE</th>\n",
              "    </tr>\n",
              "  </thead>\n",
              "  <tbody>\n",
              "    <tr>\n",
              "      <th>count</th>\n",
              "      <td>84548.000000</td>\n",
              "      <td>84548.000000</td>\n",
              "      <td>84548.000000</td>\n",
              "      <td>84548.000000</td>\n",
              "      <td>84548.000000</td>\n",
              "      <td>84548.000000</td>\n",
              "      <td>84548.000000</td>\n",
              "      <td>84548.000000</td>\n",
              "      <td>84548.000000</td>\n",
              "      <td>84548.000000</td>\n",
              "    </tr>\n",
              "    <tr>\n",
              "      <th>mean</th>\n",
              "      <td>10344.359878</td>\n",
              "      <td>2.998758</td>\n",
              "      <td>4237.218976</td>\n",
              "      <td>376.224015</td>\n",
              "      <td>10731.991614</td>\n",
              "      <td>2.025264</td>\n",
              "      <td>0.193559</td>\n",
              "      <td>2.249184</td>\n",
              "      <td>1789.322976</td>\n",
              "      <td>1.657485</td>\n",
              "    </tr>\n",
              "    <tr>\n",
              "      <th>std</th>\n",
              "      <td>7151.779436</td>\n",
              "      <td>1.289790</td>\n",
              "      <td>3568.263407</td>\n",
              "      <td>658.136814</td>\n",
              "      <td>1290.879147</td>\n",
              "      <td>16.721037</td>\n",
              "      <td>8.713183</td>\n",
              "      <td>18.972584</td>\n",
              "      <td>537.344993</td>\n",
              "      <td>0.819341</td>\n",
              "    </tr>\n",
              "    <tr>\n",
              "      <th>min</th>\n",
              "      <td>4.000000</td>\n",
              "      <td>1.000000</td>\n",
              "      <td>1.000000</td>\n",
              "      <td>1.000000</td>\n",
              "      <td>0.000000</td>\n",
              "      <td>0.000000</td>\n",
              "      <td>0.000000</td>\n",
              "      <td>0.000000</td>\n",
              "      <td>0.000000</td>\n",
              "      <td>1.000000</td>\n",
              "    </tr>\n",
              "    <tr>\n",
              "      <th>25%</th>\n",
              "      <td>4231.000000</td>\n",
              "      <td>2.000000</td>\n",
              "      <td>1322.750000</td>\n",
              "      <td>22.000000</td>\n",
              "      <td>10305.000000</td>\n",
              "      <td>0.000000</td>\n",
              "      <td>0.000000</td>\n",
              "      <td>1.000000</td>\n",
              "      <td>1920.000000</td>\n",
              "      <td>1.000000</td>\n",
              "    </tr>\n",
              "    <tr>\n",
              "      <th>50%</th>\n",
              "      <td>8942.000000</td>\n",
              "      <td>3.000000</td>\n",
              "      <td>3311.000000</td>\n",
              "      <td>50.000000</td>\n",
              "      <td>11209.000000</td>\n",
              "      <td>1.000000</td>\n",
              "      <td>0.000000</td>\n",
              "      <td>1.000000</td>\n",
              "      <td>1940.000000</td>\n",
              "      <td>2.000000</td>\n",
              "    </tr>\n",
              "    <tr>\n",
              "      <th>75%</th>\n",
              "      <td>15987.250000</td>\n",
              "      <td>4.000000</td>\n",
              "      <td>6281.000000</td>\n",
              "      <td>1001.000000</td>\n",
              "      <td>11357.000000</td>\n",
              "      <td>2.000000</td>\n",
              "      <td>0.000000</td>\n",
              "      <td>2.000000</td>\n",
              "      <td>1965.000000</td>\n",
              "      <td>2.000000</td>\n",
              "    </tr>\n",
              "    <tr>\n",
              "      <th>max</th>\n",
              "      <td>26739.000000</td>\n",
              "      <td>5.000000</td>\n",
              "      <td>16322.000000</td>\n",
              "      <td>9106.000000</td>\n",
              "      <td>11694.000000</td>\n",
              "      <td>1844.000000</td>\n",
              "      <td>2261.000000</td>\n",
              "      <td>2261.000000</td>\n",
              "      <td>2017.000000</td>\n",
              "      <td>4.000000</td>\n",
              "    </tr>\n",
              "  </tbody>\n",
              "</table>\n",
              "</div>"
            ],
            "text/plain": [
              "         Unnamed: 0       BOROUGH         BLOCK           LOT      ZIP CODE  \\\n",
              "count  84548.000000  84548.000000  84548.000000  84548.000000  84548.000000   \n",
              "mean   10344.359878      2.998758   4237.218976    376.224015  10731.991614   \n",
              "std     7151.779436      1.289790   3568.263407    658.136814   1290.879147   \n",
              "min        4.000000      1.000000      1.000000      1.000000      0.000000   \n",
              "25%     4231.000000      2.000000   1322.750000     22.000000  10305.000000   \n",
              "50%     8942.000000      3.000000   3311.000000     50.000000  11209.000000   \n",
              "75%    15987.250000      4.000000   6281.000000   1001.000000  11357.000000   \n",
              "max    26739.000000      5.000000  16322.000000   9106.000000  11694.000000   \n",
              "\n",
              "       RESIDENTIAL UNITS  COMMERCIAL UNITS   TOTAL UNITS    YEAR BUILT  \\\n",
              "count       84548.000000      84548.000000  84548.000000  84548.000000   \n",
              "mean            2.025264          0.193559      2.249184   1789.322976   \n",
              "std            16.721037          8.713183     18.972584    537.344993   \n",
              "min             0.000000          0.000000      0.000000      0.000000   \n",
              "25%             0.000000          0.000000      1.000000   1920.000000   \n",
              "50%             1.000000          0.000000      1.000000   1940.000000   \n",
              "75%             2.000000          0.000000      2.000000   1965.000000   \n",
              "max          1844.000000       2261.000000   2261.000000   2017.000000   \n",
              "\n",
              "       TAX CLASS AT TIME OF SALE  \n",
              "count               84548.000000  \n",
              "mean                    1.657485  \n",
              "std                     0.819341  \n",
              "min                     1.000000  \n",
              "25%                     1.000000  \n",
              "50%                     2.000000  \n",
              "75%                     2.000000  \n",
              "max                     4.000000  "
            ]
          },
          "metadata": {
            "tags": []
          },
          "execution_count": 5
        }
      ]
    },
    {
      "cell_type": "markdown",
      "metadata": {
        "id": "uy6ML1UMDNxm",
        "colab_type": "text"
      },
      "source": [
        "## Descriptive statistics\n",
        "\n",
        "Do the descriptive statistics make sense?  What does it mean to have zero residential units? Does it mean that the property has commercial units? \n",
        "\n",
        "The average year that houses were built is 537. Are houses in NYC really that old?  How can we correct that? \n",
        "\n",
        "*Class Discussion*\n",
        "\n",
        "Find something odd about the descriptive statistics. Is it an issue for analysis. How would you deal with it?  Write up your thoughts in the class notes.\n"
      ]
    },
    {
      "cell_type": "code",
      "metadata": {
        "id": "rzOvgvkBFuNu",
        "colab_type": "code",
        "colab": {
          "base_uri": "https://localhost:8080/",
          "height": 34
        },
        "outputId": "a6e5d663-14e7-42f9-b1a7-1a7df5b7c32e"
      },
      "source": [
        "# What does this tell you? Why isn't it df.shape()?\n",
        "print(df.shape)"
      ],
      "execution_count": null,
      "outputs": [
        {
          "output_type": "stream",
          "text": [
            "(84548, 22)\n"
          ],
          "name": "stdout"
        }
      ]
    },
    {
      "cell_type": "code",
      "metadata": {
        "id": "lcTA5zvlGFot",
        "colab_type": "code",
        "colab": {
          "base_uri": "https://localhost:8080/",
          "height": 408
        },
        "outputId": "72f0c519-bb9a-4ceb-a182-c5d50a34bc44"
      },
      "source": [
        "# Find missing values. What does this tell you?\n",
        "missing_values_count = df.isnull().sum()\n",
        "missing_values_count"
      ],
      "execution_count": null,
      "outputs": [
        {
          "output_type": "execute_result",
          "data": {
            "text/plain": [
              "Unnamed: 0                        0\n",
              "BOROUGH                           0\n",
              "NEIGHBORHOOD                      0\n",
              "BUILDING CLASS CATEGORY           0\n",
              "TAX CLASS AT PRESENT              0\n",
              "BLOCK                             0\n",
              "LOT                               0\n",
              "EASE-MENT                         0\n",
              "BUILDING CLASS AT PRESENT         0\n",
              "ADDRESS                           0\n",
              "APARTMENT NUMBER                  0\n",
              "ZIP CODE                          0\n",
              "RESIDENTIAL UNITS                 0\n",
              "COMMERCIAL UNITS                  0\n",
              "TOTAL UNITS                       0\n",
              "LAND SQUARE FEET                  0\n",
              "GROSS SQUARE FEET                 0\n",
              "YEAR BUILT                        0\n",
              "TAX CLASS AT TIME OF SALE         0\n",
              "BUILDING CLASS AT TIME OF SALE    0\n",
              "SALE PRICE                        0\n",
              "SALE DATE                         0\n",
              "dtype: int64"
            ]
          },
          "metadata": {
            "tags": []
          },
          "execution_count": 7
        }
      ]
    },
    {
      "cell_type": "code",
      "metadata": {
        "id": "zWxQ_MH6GP93",
        "colab_type": "code",
        "colab": {
          "base_uri": "https://localhost:8080/",
          "height": 408
        },
        "outputId": "879c1229-7fe0-464a-da73-af7356c33179"
      },
      "source": [
        "# Find zero values. What does this tell you? Does this make sense?\n",
        "zero_values_count = df.isin([0]).sum()\n",
        "zero_values_count"
      ],
      "execution_count": null,
      "outputs": [
        {
          "output_type": "execute_result",
          "data": {
            "text/plain": [
              "Unnamed: 0                            0\n",
              "BOROUGH                               0\n",
              "NEIGHBORHOOD                          0\n",
              "BUILDING CLASS CATEGORY               0\n",
              "TAX CLASS AT PRESENT                  0\n",
              "BLOCK                                 0\n",
              "LOT                                   0\n",
              "EASE-MENT                             0\n",
              "BUILDING CLASS AT PRESENT             0\n",
              "ADDRESS                               0\n",
              "APARTMENT NUMBER                      0\n",
              "ZIP CODE                            982\n",
              "RESIDENTIAL UNITS                 24783\n",
              "COMMERCIAL UNITS                  79429\n",
              "TOTAL UNITS                       19762\n",
              "LAND SQUARE FEET                      0\n",
              "GROSS SQUARE FEET                     0\n",
              "YEAR BUILT                         6970\n",
              "TAX CLASS AT TIME OF SALE             0\n",
              "BUILDING CLASS AT TIME OF SALE        0\n",
              "SALE PRICE                            0\n",
              "SALE DATE                             0\n",
              "dtype: int64"
            ]
          },
          "metadata": {
            "tags": []
          },
          "execution_count": 8
        }
      ]
    },
    {
      "cell_type": "code",
      "metadata": {
        "id": "X_674fEgdk62",
        "colab_type": "code",
        "colab": {}
      },
      "source": [
        "# What does this do? Explain in your notes.\n",
        "for column in df.columns:\n",
        "    if df[column].dtype != 'int64':\n",
        "        df[column].str.strip()"
      ],
      "execution_count": null,
      "outputs": []
    },
    {
      "cell_type": "markdown",
      "metadata": {
        "id": "IW8sSqkF8wmv",
        "colab_type": "text"
      },
      "source": [
        "## Zero values\n",
        "\n",
        "*Class Discussion*\n",
        "\n",
        "Are all of these zero values appropriate? Is it an issue for analysis? How would you deal with it?  Write up your thoughts in the class notes.\n"
      ]
    },
    {
      "cell_type": "code",
      "metadata": {
        "id": "ACv6A80MGwp5",
        "colab_type": "code",
        "colab": {}
      },
      "source": [
        "# Is there a difference between these two python statements? Is one preferable?\n",
        "df_tmp1=df\n",
        "df_tmp2=df.copy()"
      ],
      "execution_count": null,
      "outputs": []
    },
    {
      "cell_type": "code",
      "metadata": {
        "id": "XRsMo0YoIEUn",
        "colab_type": "code",
        "colab": {}
      },
      "source": [
        "# What do these statements do? Why would one do them?\n",
        "df_tmp2[['SALE PRICE']]=df_tmp2[['SALE PRICE']].replace(0, df_tmp2[['SALE PRICE']].median())\n",
        "df_tmp2[['YEAR BUILT']]=df_tmp2[['YEAR BUILT']].replace(0, np.nan)"
      ],
      "execution_count": null,
      "outputs": []
    },
    {
      "cell_type": "markdown",
      "metadata": {
        "id": "yl15hdCOgVRS",
        "colab_type": "text"
      },
      "source": [
        "## Changing data types\n",
        "\n",
        "*Class Discussion*\n",
        "\n",
        "Would you change any data types? Which ones and why? Write up your thoughts in the class notes."
      ]
    },
    {
      "cell_type": "code",
      "metadata": {
        "id": "Y32pEU6QYxMD",
        "colab_type": "code",
        "colab": {}
      },
      "source": [
        "# What does this do? Explain in your notes.\n",
        "df['TAX CLASS AT TIME OF SALE'] = df['TAX CLASS AT TIME OF SALE'].astype('category')\n",
        "df['SALE PRICE'] = pd.to_numeric(df['SALE PRICE'], errors='coerce')\n",
        "df['TOTAL UNITS'] = pd.to_numeric(df['TOTAL UNITS'], errors='coerce')\n",
        "df['BOROUGH'] = df['BOROUGH'].astype('category')\n",
        "df['NEIGHBORHOOD'] = df['NEIGHBORHOOD'].astype('category')"
      ],
      "execution_count": null,
      "outputs": []
    },
    {
      "cell_type": "code",
      "metadata": {
        "id": "zCGE2lsmY5bZ",
        "colab_type": "code",
        "colab": {
          "base_uri": "https://localhost:8080/",
          "height": 408
        },
        "outputId": "7564a1ac-9b41-40aa-fb53-b303aad99e21"
      },
      "source": [
        "# Look at the SALE PRICE columns\n",
        "missing_values_count = df.isnull().sum()\n",
        "missing_values_count"
      ],
      "execution_count": null,
      "outputs": [
        {
          "output_type": "execute_result",
          "data": {
            "text/plain": [
              "Unnamed: 0                            0\n",
              "BOROUGH                               0\n",
              "NEIGHBORHOOD                          0\n",
              "BUILDING CLASS CATEGORY               0\n",
              "TAX CLASS AT PRESENT                  0\n",
              "BLOCK                                 0\n",
              "LOT                                   0\n",
              "EASE-MENT                             0\n",
              "BUILDING CLASS AT PRESENT             0\n",
              "ADDRESS                               0\n",
              "APARTMENT NUMBER                      0\n",
              "ZIP CODE                              0\n",
              "RESIDENTIAL UNITS                     0\n",
              "COMMERCIAL UNITS                      0\n",
              "TOTAL UNITS                           0\n",
              "LAND SQUARE FEET                      0\n",
              "GROSS SQUARE FEET                     0\n",
              "YEAR BUILT                            0\n",
              "TAX CLASS AT TIME OF SALE             0\n",
              "BUILDING CLASS AT TIME OF SALE        0\n",
              "SALE PRICE                        14561\n",
              "SALE DATE                             0\n",
              "dtype: int64"
            ]
          },
          "metadata": {
            "tags": []
          },
          "execution_count": 13
        }
      ]
    },
    {
      "cell_type": "code",
      "metadata": {
        "id": "KHwMTzCgeOaZ",
        "colab_type": "code",
        "colab": {
          "base_uri": "https://localhost:8080/",
          "height": 119
        },
        "outputId": "dc19879f-d3b0-4b90-c489-e3f2433dfe90"
      },
      "source": [
        " df['SALE PRICE'].head()"
      ],
      "execution_count": null,
      "outputs": [
        {
          "output_type": "execute_result",
          "data": {
            "text/plain": [
              "0    6625000.0\n",
              "1          NaN\n",
              "2          NaN\n",
              "3    3936272.0\n",
              "4    8000000.0\n",
              "Name: SALE PRICE, dtype: float64"
            ]
          },
          "metadata": {
            "tags": []
          },
          "execution_count": 14
        }
      ]
    },
    {
      "cell_type": "code",
      "metadata": {
        "id": "uwoW5l4gej6l",
        "colab_type": "code",
        "colab": {}
      },
      "source": [
        "# What does this do? Explain in your notes.\n",
        "df[['SALE PRICE']]=df[['SALE PRICE']].replace(np.nan, df[['SALE PRICE']].median())"
      ],
      "execution_count": null,
      "outputs": []
    },
    {
      "cell_type": "code",
      "metadata": {
        "id": "Ej_nsVEfelrb",
        "colab_type": "code",
        "colab": {
          "base_uri": "https://localhost:8080/",
          "height": 119
        },
        "outputId": "18d7545b-81f7-4a51-a9f6-cceb5727b69d"
      },
      "source": [
        " df['SALE PRICE'].head()"
      ],
      "execution_count": null,
      "outputs": [
        {
          "output_type": "execute_result",
          "data": {
            "text/plain": [
              "0    6625000.0\n",
              "1     530000.0\n",
              "2     530000.0\n",
              "3    3936272.0\n",
              "4    8000000.0\n",
              "Name: SALE PRICE, dtype: float64"
            ]
          },
          "metadata": {
            "tags": []
          },
          "execution_count": 16
        }
      ]
    },
    {
      "cell_type": "code",
      "metadata": {
        "id": "B2H6jCDxe4fn",
        "colab_type": "code",
        "colab": {
          "base_uri": "https://localhost:8080/",
          "height": 170
        },
        "outputId": "cb12c226-e059-4b3b-9559-71824bf04979"
      },
      "source": [
        " df['SALE PRICE'].describe()"
      ],
      "execution_count": null,
      "outputs": [
        {
          "output_type": "execute_result",
          "data": {
            "text/plain": [
              "count    8.454800e+04\n",
              "mean     1.147900e+06\n",
              "std      1.038058e+07\n",
              "min      0.000000e+00\n",
              "25%      3.000000e+05\n",
              "50%      5.300000e+05\n",
              "75%      8.300000e+05\n",
              "max      2.210000e+09\n",
              "Name: SALE PRICE, dtype: float64"
            ]
          },
          "metadata": {
            "tags": []
          },
          "execution_count": 17
        }
      ]
    },
    {
      "cell_type": "code",
      "metadata": {
        "id": "5WwPI4DSfWCo",
        "colab_type": "code",
        "colab": {
          "base_uri": "https://localhost:8080/",
          "height": 408
        },
        "outputId": "e8d047e4-8b00-46b1-a4f6-7d680e275983"
      },
      "source": [
        "# Find zero values. What does this tell you? Does this make sense?\n",
        "zero_values_count = df.isin([0]).sum()\n",
        "zero_values_count"
      ],
      "execution_count": null,
      "outputs": [
        {
          "output_type": "execute_result",
          "data": {
            "text/plain": [
              "Unnamed: 0                            0\n",
              "BOROUGH                               0\n",
              "NEIGHBORHOOD                          0\n",
              "BUILDING CLASS CATEGORY               0\n",
              "TAX CLASS AT PRESENT                  0\n",
              "BLOCK                                 0\n",
              "LOT                                   0\n",
              "EASE-MENT                             0\n",
              "BUILDING CLASS AT PRESENT             0\n",
              "ADDRESS                               0\n",
              "APARTMENT NUMBER                      0\n",
              "ZIP CODE                            982\n",
              "RESIDENTIAL UNITS                 24783\n",
              "COMMERCIAL UNITS                  79429\n",
              "TOTAL UNITS                       19762\n",
              "LAND SQUARE FEET                      0\n",
              "GROSS SQUARE FEET                     0\n",
              "YEAR BUILT                         6970\n",
              "TAX CLASS AT TIME OF SALE             0\n",
              "BUILDING CLASS AT TIME OF SALE        0\n",
              "SALE PRICE                        10228\n",
              "SALE DATE                             0\n",
              "dtype: int64"
            ]
          },
          "metadata": {
            "tags": []
          },
          "execution_count": 18
        }
      ]
    },
    {
      "cell_type": "code",
      "metadata": {
        "id": "Qn6G5k3Ggbsy",
        "colab_type": "code",
        "colab": {
          "base_uri": "https://localhost:8080/",
          "height": 307
        },
        "outputId": "c52887ad-943d-43b6-af5c-06c771167dcf"
      },
      "source": [
        "# What does this tell you?\n",
        "sns.distplot(df['SALE PRICE'])"
      ],
      "execution_count": null,
      "outputs": [
        {
          "output_type": "execute_result",
          "data": {
            "text/plain": [
              "<matplotlib.axes._subplots.AxesSubplot at 0x7f12ae9cdba8>"
            ]
          },
          "metadata": {
            "tags": []
          },
          "execution_count": 19
        },
        {
          "output_type": "display_data",
          "data": {
            "image/png": "[encoded data removed]",
            "text/plain": [
              "<Figure size 432x288 with 1 Axes>"
            ]
          },
          "metadata": {
            "tags": [],
            "needs_background": "light"
          }
        }
      ]
    },
    {
      "cell_type": "code",
      "metadata": {
        "id": "YLmYyxK1gb1F",
        "colab_type": "code",
        "colab": {
          "base_uri": "https://localhost:8080/",
          "height": 296
        },
        "outputId": "0c6df510-5729-4c28-f8a8-a1cb93819138"
      },
      "source": [
        "# What does this tell you?\n",
        "sns.boxplot(x='SALE PRICE', data=df)"
      ],
      "execution_count": null,
      "outputs": [
        {
          "output_type": "execute_result",
          "data": {
            "text/plain": [
              "<matplotlib.axes._subplots.AxesSubplot at 0x7f12ae8bf278>"
            ]
          },
          "metadata": {
            "tags": []
          },
          "execution_count": 20
        },
        {
          "output_type": "display_data",
          "data": {
            "image/png": "[encoded data removed]",
            "text/plain": [
              "<Figure size 432x288 with 1 Axes>"
            ]
          },
          "metadata": {
            "tags": [],
            "needs_background": "light"
          }
        }
      ]
    },
    {
      "cell_type": "markdown",
      "metadata": {
        "id": "_iTATG0sf7PM",
        "colab_type": "text"
      },
      "source": [
        "## Where did all of the SALE PRICE zeros come from?\n",
        "\n",
        "*Class Discussion*\n",
        "\n",
        "Where did all of the SALE PRICE zeros come from? Write up your thoughts in the class notes."
      ]
    },
    {
      "cell_type": "markdown",
      "metadata": {
        "id": "XuIkY0AW8wpw",
        "colab_type": "text"
      },
      "source": [
        "## Replacing values\n",
        "\n",
        "*Class Discussion*\n",
        "\n",
        "Why did SALE PRICE go from zero nan to 14561 nan after converting to numeric?  \n",
        "\n",
        "Would you replace any values? Which ones and why? Write up your thoughts in the class notes."
      ]
    },
    {
      "cell_type": "code",
      "metadata": {
        "id": "CV_8HjYeLnNr",
        "colab_type": "code",
        "colab": {}
      },
      "source": [
        "# What does this do? Explain in your notes.\n",
        "del df['EASE-MENT']"
      ],
      "execution_count": null,
      "outputs": []
    },
    {
      "cell_type": "code",
      "metadata": {
        "id": "Wy-QIpg3MVgS",
        "colab_type": "code",
        "colab": {
          "base_uri": "https://localhost:8080/",
          "height": 408
        },
        "outputId": "816b3866-7fcb-4cea-d7b3-8eab5198135b"
      },
      "source": [
        "df.head()"
      ],
      "execution_count": null,
      "outputs": [
        {
          "output_type": "execute_result",
          "data": {
            "text/html": [
              "<div>\n",
              "<style scoped>\n",
              "    .dataframe tbody tr th:only-of-type {\n",
              "        vertical-align: middle;\n",
              "    }\n",
              "\n",
              "    .dataframe tbody tr th {\n",
              "        vertical-align: top;\n",
              "    }\n",
              "\n",
              "    .dataframe thead th {\n",
              "        text-align: right;\n",
              "    }\n",
              "</style>\n",
              "<table border=\"1\" class=\"dataframe\">\n",
              "  <thead>\n",
              "    <tr style=\"text-align: right;\">\n",
              "      <th></th>\n",
              "      <th>Unnamed: 0</th>\n",
              "      <th>BOROUGH</th>\n",
              "      <th>NEIGHBORHOOD</th>\n",
              "      <th>BUILDING CLASS CATEGORY</th>\n",
              "      <th>TAX CLASS AT PRESENT</th>\n",
              "      <th>BLOCK</th>\n",
              "      <th>LOT</th>\n",
              "      <th>BUILDING CLASS AT PRESENT</th>\n",
              "      <th>ADDRESS</th>\n",
              "      <th>APARTMENT NUMBER</th>\n",
              "      <th>ZIP CODE</th>\n",
              "      <th>RESIDENTIAL UNITS</th>\n",
              "      <th>COMMERCIAL UNITS</th>\n",
              "      <th>TOTAL UNITS</th>\n",
              "      <th>LAND SQUARE FEET</th>\n",
              "      <th>GROSS SQUARE FEET</th>\n",
              "      <th>YEAR BUILT</th>\n",
              "      <th>TAX CLASS AT TIME OF SALE</th>\n",
              "      <th>BUILDING CLASS AT TIME OF SALE</th>\n",
              "      <th>SALE PRICE</th>\n",
              "      <th>SALE DATE</th>\n",
              "    </tr>\n",
              "  </thead>\n",
              "  <tbody>\n",
              "    <tr>\n",
              "      <th>0</th>\n",
              "      <td>4</td>\n",
              "      <td>1</td>\n",
              "      <td>ALPHABET CITY</td>\n",
              "      <td>07 RENTALS - WALKUP APARTMENTS</td>\n",
              "      <td>2A</td>\n",
              "      <td>392</td>\n",
              "      <td>6</td>\n",
              "      <td>C2</td>\n",
              "      <td>153 AVENUE B</td>\n",
              "      <td></td>\n",
              "      <td>10009</td>\n",
              "      <td>5</td>\n",
              "      <td>0</td>\n",
              "      <td>5</td>\n",
              "      <td>1633</td>\n",
              "      <td>6440</td>\n",
              "      <td>1900</td>\n",
              "      <td>2</td>\n",
              "      <td>C2</td>\n",
              "      <td>6625000.0</td>\n",
              "      <td>2017-07-19 00:00:00</td>\n",
              "    </tr>\n",
              "    <tr>\n",
              "      <th>1</th>\n",
              "      <td>5</td>\n",
              "      <td>1</td>\n",
              "      <td>ALPHABET CITY</td>\n",
              "      <td>07 RENTALS - WALKUP APARTMENTS</td>\n",
              "      <td>2</td>\n",
              "      <td>399</td>\n",
              "      <td>26</td>\n",
              "      <td>C7</td>\n",
              "      <td>234 EAST 4TH   STREET</td>\n",
              "      <td></td>\n",
              "      <td>10009</td>\n",
              "      <td>28</td>\n",
              "      <td>3</td>\n",
              "      <td>31</td>\n",
              "      <td>4616</td>\n",
              "      <td>18690</td>\n",
              "      <td>1900</td>\n",
              "      <td>2</td>\n",
              "      <td>C7</td>\n",
              "      <td>530000.0</td>\n",
              "      <td>2016-12-14 00:00:00</td>\n",
              "    </tr>\n",
              "    <tr>\n",
              "      <th>2</th>\n",
              "      <td>6</td>\n",
              "      <td>1</td>\n",
              "      <td>ALPHABET CITY</td>\n",
              "      <td>07 RENTALS - WALKUP APARTMENTS</td>\n",
              "      <td>2</td>\n",
              "      <td>399</td>\n",
              "      <td>39</td>\n",
              "      <td>C7</td>\n",
              "      <td>197 EAST 3RD   STREET</td>\n",
              "      <td></td>\n",
              "      <td>10009</td>\n",
              "      <td>16</td>\n",
              "      <td>1</td>\n",
              "      <td>17</td>\n",
              "      <td>2212</td>\n",
              "      <td>7803</td>\n",
              "      <td>1900</td>\n",
              "      <td>2</td>\n",
              "      <td>C7</td>\n",
              "      <td>530000.0</td>\n",
              "      <td>2016-12-09 00:00:00</td>\n",
              "    </tr>\n",
              "    <tr>\n",
              "      <th>3</th>\n",
              "      <td>7</td>\n",
              "      <td>1</td>\n",
              "      <td>ALPHABET CITY</td>\n",
              "      <td>07 RENTALS - WALKUP APARTMENTS</td>\n",
              "      <td>2B</td>\n",
              "      <td>402</td>\n",
              "      <td>21</td>\n",
              "      <td>C4</td>\n",
              "      <td>154 EAST 7TH STREET</td>\n",
              "      <td></td>\n",
              "      <td>10009</td>\n",
              "      <td>10</td>\n",
              "      <td>0</td>\n",
              "      <td>10</td>\n",
              "      <td>2272</td>\n",
              "      <td>6794</td>\n",
              "      <td>1913</td>\n",
              "      <td>2</td>\n",
              "      <td>C4</td>\n",
              "      <td>3936272.0</td>\n",
              "      <td>2016-09-23 00:00:00</td>\n",
              "    </tr>\n",
              "    <tr>\n",
              "      <th>4</th>\n",
              "      <td>8</td>\n",
              "      <td>1</td>\n",
              "      <td>ALPHABET CITY</td>\n",
              "      <td>07 RENTALS - WALKUP APARTMENTS</td>\n",
              "      <td>2A</td>\n",
              "      <td>404</td>\n",
              "      <td>55</td>\n",
              "      <td>C2</td>\n",
              "      <td>301 EAST 10TH   STREET</td>\n",
              "      <td></td>\n",
              "      <td>10009</td>\n",
              "      <td>6</td>\n",
              "      <td>0</td>\n",
              "      <td>6</td>\n",
              "      <td>2369</td>\n",
              "      <td>4615</td>\n",
              "      <td>1900</td>\n",
              "      <td>2</td>\n",
              "      <td>C2</td>\n",
              "      <td>8000000.0</td>\n",
              "      <td>2016-11-17 00:00:00</td>\n",
              "    </tr>\n",
              "  </tbody>\n",
              "</table>\n",
              "</div>"
            ],
            "text/plain": [
              "   Unnamed: 0 BOROUGH   NEIGHBORHOOD  \\\n",
              "0           4       1  ALPHABET CITY   \n",
              "1           5       1  ALPHABET CITY   \n",
              "2           6       1  ALPHABET CITY   \n",
              "3           7       1  ALPHABET CITY   \n",
              "4           8       1  ALPHABET CITY   \n",
              "\n",
              "                       BUILDING CLASS CATEGORY TAX CLASS AT PRESENT  BLOCK  \\\n",
              "0  07 RENTALS - WALKUP APARTMENTS                                2A    392   \n",
              "1  07 RENTALS - WALKUP APARTMENTS                                 2    399   \n",
              "2  07 RENTALS - WALKUP APARTMENTS                                 2    399   \n",
              "3  07 RENTALS - WALKUP APARTMENTS                                2B    402   \n",
              "4  07 RENTALS - WALKUP APARTMENTS                                2A    404   \n",
              "\n",
              "   LOT BUILDING CLASS AT PRESENT                 ADDRESS APARTMENT NUMBER  \\\n",
              "0    6                        C2            153 AVENUE B                    \n",
              "1   26                        C7   234 EAST 4TH   STREET                    \n",
              "2   39                        C7   197 EAST 3RD   STREET                    \n",
              "3   21                        C4     154 EAST 7TH STREET                    \n",
              "4   55                        C2  301 EAST 10TH   STREET                    \n",
              "\n",
              "   ZIP CODE  RESIDENTIAL UNITS  COMMERCIAL UNITS  TOTAL UNITS  \\\n",
              "0     10009                  5                 0            5   \n",
              "1     10009                 28                 3           31   \n",
              "2     10009                 16                 1           17   \n",
              "3     10009                 10                 0           10   \n",
              "4     10009                  6                 0            6   \n",
              "\n",
              "  LAND SQUARE FEET GROSS SQUARE FEET  YEAR BUILT TAX CLASS AT TIME OF SALE  \\\n",
              "0             1633              6440        1900                         2   \n",
              "1             4616             18690        1900                         2   \n",
              "2             2212              7803        1900                         2   \n",
              "3             2272              6794        1913                         2   \n",
              "4             2369              4615        1900                         2   \n",
              "\n",
              "  BUILDING CLASS AT TIME OF SALE  SALE PRICE            SALE DATE  \n",
              "0                             C2   6625000.0  2017-07-19 00:00:00  \n",
              "1                             C7    530000.0  2016-12-14 00:00:00  \n",
              "2                             C7    530000.0  2016-12-09 00:00:00  \n",
              "3                             C4   3936272.0  2016-09-23 00:00:00  \n",
              "4                             C2   8000000.0  2016-11-17 00:00:00  "
            ]
          },
          "metadata": {
            "tags": []
          },
          "execution_count": 22
        }
      ]
    },
    {
      "cell_type": "code",
      "metadata": {
        "id": "z1OuYz5wMsF2",
        "colab_type": "code",
        "colab": {
          "base_uri": "https://localhost:8080/",
          "height": 493
        },
        "outputId": "132d1685-2dfe-4df5-97d9-df0f68982d83"
      },
      "source": [
        "# Data types\n",
        "df.info()"
      ],
      "execution_count": null,
      "outputs": [
        {
          "output_type": "stream",
          "text": [
            "<class 'pandas.core.frame.DataFrame'>\n",
            "RangeIndex: 84548 entries, 0 to 84547\n",
            "Data columns (total 21 columns):\n",
            " #   Column                          Non-Null Count  Dtype   \n",
            "---  ------                          --------------  -----   \n",
            " 0   Unnamed: 0                      84548 non-null  int64   \n",
            " 1   BOROUGH                         84548 non-null  category\n",
            " 2   NEIGHBORHOOD                    84548 non-null  category\n",
            " 3   BUILDING CLASS CATEGORY         84548 non-null  object  \n",
            " 4   TAX CLASS AT PRESENT            84548 non-null  object  \n",
            " 5   BLOCK                           84548 non-null  int64   \n",
            " 6   LOT                             84548 non-null  int64   \n",
            " 7   BUILDING CLASS AT PRESENT       84548 non-null  object  \n",
            " 8   ADDRESS                         84548 non-null  object  \n",
            " 9   APARTMENT NUMBER                84548 non-null  object  \n",
            " 10  ZIP CODE                        84548 non-null  int64   \n",
            " 11  RESIDENTIAL UNITS               84548 non-null  int64   \n",
            " 12  COMMERCIAL UNITS                84548 non-null  int64   \n",
            " 13  TOTAL UNITS                     84548 non-null  int64   \n",
            " 14  LAND SQUARE FEET                84548 non-null  object  \n",
            " 15  GROSS SQUARE FEET               84548 non-null  object  \n",
            " 16  YEAR BUILT                      84548 non-null  int64   \n",
            " 17  TAX CLASS AT TIME OF SALE       84548 non-null  category\n",
            " 18  BUILDING CLASS AT TIME OF SALE  84548 non-null  object  \n",
            " 19  SALE PRICE                      84548 non-null  float64 \n",
            " 20  SALE DATE                       84548 non-null  object  \n",
            "dtypes: category(3), float64(1), int64(8), object(9)\n",
            "memory usage: 11.9+ MB\n"
          ],
          "name": "stdout"
        }
      ]
    },
    {
      "cell_type": "markdown",
      "metadata": {
        "id": "Gk0bri9Ogr9_",
        "colab_type": "text"
      },
      "source": [
        "## Skewness discussion\n",
        "\n",
        "Skewness is a measure of the asymmetry of the probability distribution of a real-valued random variable about its mean. The skewness value can be positive, zero, negative, or undefined."
      ]
    },
    {
      "cell_type": "code",
      "metadata": {
        "id": "eNtHVyiIQ7wZ",
        "colab_type": "code",
        "colab": {
          "base_uri": "https://localhost:8080/",
          "height": 281
        },
        "outputId": "3cefc968-bf1a-49db-83b3-9837352a61d3"
      },
      "source": [
        "# What does this tell you?\n",
        "x = np.linspace(9.500000e+05,2.210000e+09, num=100)\n",
        "\n",
        "y = [df[(df['SALE PRICE'] < x_range)]['SALE PRICE'].skew() for x_range in x]\n",
        "sns.lineplot(x=x,y=y)\n",
        "plt.ticklabel_format(style='plain', axis='x')\n",
        "plt.title('Skewness for different sale price range')\n",
        "plt.show()"
      ],
      "execution_count": null,
      "outputs": [
        {
          "output_type": "display_data",
          "data": {
            "image/png": "[encoded data removed]",
            "text/plain": [
              "<Figure size 432x288 with 1 Axes>"
            ]
          },
          "metadata": {
            "tags": [],
            "needs_background": "light"
          }
        }
      ]
    },
    {
      "cell_type": "markdown",
      "metadata": {
        "id": "Qc_pPFrERCge",
        "colab_type": "text"
      },
      "source": [
        "## Skewness discussion\n",
        "\n",
        "*Class Discussion*\n",
        "\n",
        "What does the skewness graph tell you? Write up your thoughts in the class notes."
      ]
    },
    {
      "cell_type": "code",
      "metadata": {
        "id": "9zKPwx94RZWH",
        "colab_type": "code",
        "colab": {
          "base_uri": "https://localhost:8080/",
          "height": 307
        },
        "outputId": "3f438942-c54f-43d2-b832-3855ffc33f0a"
      },
      "source": [
        "# What does this tell you?\n",
        "sns.distplot(df[(df['SALE PRICE'] < 5e+06)]['SALE PRICE'])"
      ],
      "execution_count": null,
      "outputs": [
        {
          "output_type": "execute_result",
          "data": {
            "text/plain": [
              "<matplotlib.axes._subplots.AxesSubplot at 0x7f12ae7e5d30>"
            ]
          },
          "metadata": {
            "tags": []
          },
          "execution_count": 25
        },
        {
          "output_type": "display_data",
          "data": {
            "image/png": "[encoded data removed]",
            "text/plain": [
              "<Figure size 432x288 with 1 Axes>"
            ]
          },
          "metadata": {
            "tags": [],
            "needs_background": "light"
          }
        }
      ]
    },
    {
      "cell_type": "code",
      "metadata": {
        "id": "R0u_KlooiEKe",
        "colab_type": "code",
        "colab": {
          "base_uri": "https://localhost:8080/",
          "height": 307
        },
        "outputId": "a67d7614-65ab-466f-a0d2-bc6e30e0643c"
      },
      "source": [
        "sns.distplot(df[(df['SALE PRICE'] > 1e+03) & (df['SALE PRICE'] < 5e+06)]['SALE PRICE'])"
      ],
      "execution_count": null,
      "outputs": [
        {
          "output_type": "execute_result",
          "data": {
            "text/plain": [
              "<matplotlib.axes._subplots.AxesSubplot at 0x7f12ae2202e8>"
            ]
          },
          "metadata": {
            "tags": []
          },
          "execution_count": 26
        },
        {
          "output_type": "display_data",
          "data": {
            "image/png": "[encoded data removed]",
            "text/plain": [
              "<Figure size 432x288 with 1 Axes>"
            ]
          },
          "metadata": {
            "tags": [],
            "needs_background": "light"
          }
        }
      ]
    },
    {
      "cell_type": "markdown",
      "metadata": {
        "id": "8RZejR7jRgnP",
        "colab_type": "text"
      },
      "source": [
        "## Distribution\n",
        "Class Discussion\n",
        "\n",
        "What does the distribution graph tell you? Write up your thoughts in the class notes."
      ]
    },
    {
      "cell_type": "markdown",
      "metadata": {
        "id": "MpYS3msZixek",
        "colab_type": "text"
      },
      "source": [
        "## Feature Selection\n",
        "\n",
        "What features are related to the target (dependent variable) SALE PRICE   \n",
        "\n"
      ]
    },
    {
      "cell_type": "code",
      "metadata": {
        "id": "ezYgRj5ji-y8",
        "colab_type": "code",
        "colab": {
          "base_uri": "https://localhost:8080/",
          "height": 376
        },
        "outputId": "6815374f-4ed7-4c76-9fea-931a8c75d6d3"
      },
      "source": [
        "#Correlation between the features\n",
        "corr = df.corr()\n",
        "sns.heatmap(corr)"
      ],
      "execution_count": null,
      "outputs": [
        {
          "output_type": "execute_result",
          "data": {
            "text/plain": [
              "<matplotlib.axes._subplots.AxesSubplot at 0x7f12ae1ab1d0>"
            ]
          },
          "metadata": {
            "tags": []
          },
          "execution_count": 27
        },
        {
          "output_type": "display_data",
          "data": {
            "image/png": "[encoded data removed]",
            "text/plain": [
              "<Figure size 432x288 with 2 Axes>"
            ]
          },
          "metadata": {
            "tags": [],
            "needs_background": "light"
          }
        }
      ]
    },
    {
      "cell_type": "code",
      "metadata": {
        "id": "7XZLxETcjoHL",
        "colab_type": "code",
        "colab": {
          "base_uri": "https://localhost:8080/",
          "height": 187
        },
        "outputId": "829eda45-6135-4961-ede2-4662c6b9e25d"
      },
      "source": [
        "#Let's sort the numeric correlation between sale price and other features\n",
        "corr['SALE PRICE'].sort_values(ascending=False)"
      ],
      "execution_count": null,
      "outputs": [
        {
          "output_type": "execute_result",
          "data": {
            "text/plain": [
              "SALE PRICE           1.000000\n",
              "TOTAL UNITS          0.103112\n",
              "RESIDENTIAL UNITS    0.094278\n",
              "COMMERCIAL UNITS     0.043670\n",
              "LOT                  0.010957\n",
              "YEAR BUILT          -0.002009\n",
              "Unnamed: 0          -0.015184\n",
              "ZIP CODE            -0.029975\n",
              "BLOCK               -0.054124\n",
              "Name: SALE PRICE, dtype: float64"
            ]
          },
          "metadata": {
            "tags": []
          },
          "execution_count": 28
        }
      ]
    },
    {
      "cell_type": "markdown",
      "metadata": {
        "id": "ea4KL9g4jLUk",
        "colab_type": "text"
      },
      "source": [
        "## Feature Selection Discussion\n",
        "*Class Discussion*\n",
        "\n",
        "Is there any significant correlation?\n",
        "\n",
        "What about categorical variables? Can they be related to the target (dependent variable) SALE PRICE?\n",
        "\n",
        "What other methods can be used for feature selection? Write up your thoughts in the class notes."
      ]
    },
    {
      "cell_type": "code",
      "metadata": {
        "id": "dqEsSrHkh1fJ",
        "colab_type": "code",
        "colab": {
          "base_uri": "https://localhost:8080/",
          "height": 572
        },
        "outputId": "f8705c90-0fbe-4ab7-f88f-3e058c1ae1e8"
      },
      "source": [
        "# What does this tell you?\n",
        "print(df['BUILDING CLASS CATEGORY'].nunique())\n",
        "pivot=df.pivot_table(index='BUILDING CLASS CATEGORY', values='SALE PRICE', aggfunc=np.median)\n",
        "pivot\n",
        "pivot.plot(kind='bar', color='Purple')"
      ],
      "execution_count": null,
      "outputs": [
        {
          "output_type": "stream",
          "text": [
            "47\n"
          ],
          "name": "stdout"
        },
        {
          "output_type": "execute_result",
          "data": {
            "text/plain": [
              "<matplotlib.axes._subplots.AxesSubplot at 0x7f12aa67da58>"
            ]
          },
          "metadata": {
            "tags": []
          },
          "execution_count": 29
        },
        {
          "output_type": "display_data",
          "data": {
            "image/png": "[encoded data removed]",
            "text/plain": [
              "<Figure size 432x288 with 1 Axes>"
            ]
          },
          "metadata": {
            "tags": [],
            "needs_background": "light"
          }
        }
      ]
    },
    {
      "cell_type": "markdown",
      "metadata": {
        "id": "1ZYbRH9qmWe0",
        "colab_type": "text"
      },
      "source": [
        "## A simple analysis\n",
        "\n"
      ]
    },
    {
      "cell_type": "code",
      "metadata": {
        "id": "mKIheNl_ngpO",
        "colab_type": "code",
        "colab": {
          "base_uri": "https://localhost:8080/",
          "height": 136
        },
        "outputId": "f21a192d-9dd3-4200-9270-ea3eee1d7569"
      },
      "source": [
        "print(df.columns)"
      ],
      "execution_count": null,
      "outputs": [
        {
          "output_type": "stream",
          "text": [
            "Index(['Unnamed: 0', 'BOROUGH', 'NEIGHBORHOOD', 'BUILDING CLASS CATEGORY',\n",
            "       'TAX CLASS AT PRESENT', 'BLOCK', 'LOT', 'BUILDING CLASS AT PRESENT',\n",
            "       'ADDRESS', 'APARTMENT NUMBER', 'ZIP CODE', 'RESIDENTIAL UNITS',\n",
            "       'COMMERCIAL UNITS', 'TOTAL UNITS', 'LAND SQUARE FEET',\n",
            "       'GROSS SQUARE FEET', 'YEAR BUILT', 'TAX CLASS AT TIME OF SALE',\n",
            "       'BUILDING CLASS AT TIME OF SALE', 'SALE PRICE', 'SALE DATE'],\n",
            "      dtype='object')\n"
          ],
          "name": "stdout"
        }
      ]
    },
    {
      "cell_type": "code",
      "metadata": {
        "id": "j1uw4xhgnvME",
        "colab_type": "code",
        "colab": {
          "base_uri": "https://localhost:8080/",
          "height": 493
        },
        "outputId": "75f6d304-8372-4e3a-94b7-3708d5004e7a"
      },
      "source": [
        "df.info()"
      ],
      "execution_count": null,
      "outputs": [
        {
          "output_type": "stream",
          "text": [
            "<class 'pandas.core.frame.DataFrame'>\n",
            "RangeIndex: 84548 entries, 0 to 84547\n",
            "Data columns (total 21 columns):\n",
            " #   Column                          Non-Null Count  Dtype   \n",
            "---  ------                          --------------  -----   \n",
            " 0   Unnamed: 0                      84548 non-null  int64   \n",
            " 1   BOROUGH                         84548 non-null  category\n",
            " 2   NEIGHBORHOOD                    84548 non-null  category\n",
            " 3   BUILDING CLASS CATEGORY         84548 non-null  object  \n",
            " 4   TAX CLASS AT PRESENT            84548 non-null  object  \n",
            " 5   BLOCK                           84548 non-null  int64   \n",
            " 6   LOT                             84548 non-null  int64   \n",
            " 7   BUILDING CLASS AT PRESENT       84548 non-null  object  \n",
            " 8   ADDRESS                         84548 non-null  object  \n",
            " 9   APARTMENT NUMBER                84548 non-null  object  \n",
            " 10  ZIP CODE                        84548 non-null  int64   \n",
            " 11  RESIDENTIAL UNITS               84548 non-null  int64   \n",
            " 12  COMMERCIAL UNITS                84548 non-null  int64   \n",
            " 13  TOTAL UNITS                     84548 non-null  int64   \n",
            " 14  LAND SQUARE FEET                84548 non-null  object  \n",
            " 15  GROSS SQUARE FEET               84548 non-null  object  \n",
            " 16  YEAR BUILT                      84548 non-null  int64   \n",
            " 17  TAX CLASS AT TIME OF SALE       84548 non-null  category\n",
            " 18  BUILDING CLASS AT TIME OF SALE  84548 non-null  object  \n",
            " 19  SALE PRICE                      84548 non-null  float64 \n",
            " 20  SALE DATE                       84548 non-null  object  \n",
            "dtypes: category(3), float64(1), int64(8), object(9)\n",
            "memory usage: 11.9+ MB\n"
          ],
          "name": "stdout"
        }
      ]
    },
    {
      "cell_type": "code",
      "metadata": {
        "id": "ZXCmR7ubm_EQ",
        "colab_type": "code",
        "colab": {}
      },
      "source": [
        "# X and y is a common convention for the independent and dependent variables\n",
        "y='SALE PRICE'\n",
        "X=['BOROUGH', 'NEIGHBORHOOD', 'RESIDENTIAL UNITS',\n",
        "       'COMMERCIAL UNITS', 'TOTAL UNITS', 'TAX CLASS AT TIME OF SALE','SALE PRICE']\n",
        "Xy=['BOROUGH', 'NEIGHBORHOOD', 'RESIDENTIAL UNITS',\n",
        "       'COMMERCIAL UNITS', 'TOTAL UNITS', 'TAX CLASS AT TIME OF SALE','SALE PRICE']"
      ],
      "execution_count": null,
      "outputs": []
    },
    {
      "cell_type": "code",
      "metadata": {
        "id": "Jd9gkfGSnf_m",
        "colab_type": "code",
        "colab": {
          "base_uri": "https://localhost:8080/",
          "height": 204
        },
        "outputId": "34ec178e-a872-4fc2-8910-b7d4e74d821e"
      },
      "source": [
        "df=df[Xy]\n",
        "df.head()"
      ],
      "execution_count": null,
      "outputs": [
        {
          "output_type": "execute_result",
          "data": {
            "text/html": [
              "<div>\n",
              "<style scoped>\n",
              "    .dataframe tbody tr th:only-of-type {\n",
              "        vertical-align: middle;\n",
              "    }\n",
              "\n",
              "    .dataframe tbody tr th {\n",
              "        vertical-align: top;\n",
              "    }\n",
              "\n",
              "    .dataframe thead th {\n",
              "        text-align: right;\n",
              "    }\n",
              "</style>\n",
              "<table border=\"1\" class=\"dataframe\">\n",
              "  <thead>\n",
              "    <tr style=\"text-align: right;\">\n",
              "      <th></th>\n",
              "      <th>BOROUGH</th>\n",
              "      <th>NEIGHBORHOOD</th>\n",
              "      <th>RESIDENTIAL UNITS</th>\n",
              "      <th>COMMERCIAL UNITS</th>\n",
              "      <th>TOTAL UNITS</th>\n",
              "      <th>TAX CLASS AT TIME OF SALE</th>\n",
              "      <th>SALE PRICE</th>\n",
              "    </tr>\n",
              "  </thead>\n",
              "  <tbody>\n",
              "    <tr>\n",
              "      <th>0</th>\n",
              "      <td>1</td>\n",
              "      <td>ALPHABET CITY</td>\n",
              "      <td>5</td>\n",
              "      <td>0</td>\n",
              "      <td>5</td>\n",
              "      <td>2</td>\n",
              "      <td>6625000.0</td>\n",
              "    </tr>\n",
              "    <tr>\n",
              "      <th>1</th>\n",
              "      <td>1</td>\n",
              "      <td>ALPHABET CITY</td>\n",
              "      <td>28</td>\n",
              "      <td>3</td>\n",
              "      <td>31</td>\n",
              "      <td>2</td>\n",
              "      <td>530000.0</td>\n",
              "    </tr>\n",
              "    <tr>\n",
              "      <th>2</th>\n",
              "      <td>1</td>\n",
              "      <td>ALPHABET CITY</td>\n",
              "      <td>16</td>\n",
              "      <td>1</td>\n",
              "      <td>17</td>\n",
              "      <td>2</td>\n",
              "      <td>530000.0</td>\n",
              "    </tr>\n",
              "    <tr>\n",
              "      <th>3</th>\n",
              "      <td>1</td>\n",
              "      <td>ALPHABET CITY</td>\n",
              "      <td>10</td>\n",
              "      <td>0</td>\n",
              "      <td>10</td>\n",
              "      <td>2</td>\n",
              "      <td>3936272.0</td>\n",
              "    </tr>\n",
              "    <tr>\n",
              "      <th>4</th>\n",
              "      <td>1</td>\n",
              "      <td>ALPHABET CITY</td>\n",
              "      <td>6</td>\n",
              "      <td>0</td>\n",
              "      <td>6</td>\n",
              "      <td>2</td>\n",
              "      <td>8000000.0</td>\n",
              "    </tr>\n",
              "  </tbody>\n",
              "</table>\n",
              "</div>"
            ],
            "text/plain": [
              "  BOROUGH   NEIGHBORHOOD  RESIDENTIAL UNITS  COMMERCIAL UNITS  TOTAL UNITS  \\\n",
              "0       1  ALPHABET CITY                  5                 0            5   \n",
              "1       1  ALPHABET CITY                 28                 3           31   \n",
              "2       1  ALPHABET CITY                 16                 1           17   \n",
              "3       1  ALPHABET CITY                 10                 0           10   \n",
              "4       1  ALPHABET CITY                  6                 0            6   \n",
              "\n",
              "  TAX CLASS AT TIME OF SALE  SALE PRICE  \n",
              "0                         2   6625000.0  \n",
              "1                         2    530000.0  \n",
              "2                         2    530000.0  \n",
              "3                         2   3936272.0  \n",
              "4                         2   8000000.0  "
            ]
          },
          "metadata": {
            "tags": []
          },
          "execution_count": 33
        }
      ]
    },
    {
      "cell_type": "markdown",
      "metadata": {
        "id": "9IZ0EUu2qBow",
        "colab_type": "text"
      },
      "source": [
        "## Statistcial learning with an ensemble of machine learning algorithms\n",
        "\n",
        "_Lessons from Kaggle – Ensemble ML and Feature Engineering_\n",
        "\n",
        "99.9% of high ranking Kaggle submissions shared two approaches. Stacking and feature engineering. In this notebook, we will use indivdual models and stacked models to predict lift. Stacking is a type of ensemble, creating a ”super-model” by combining many complementary models.\n",
        "\n",
        "We will generate thousands of individual models, select the best models and combine the best models into a ”super-model” to predict lift.\n",
        "\n",
        "_Models and hyperparamter optimization_\n",
        "\n",
        "A model is an algorithm with a given set of hyperparamters. For example, a random forest estimator that uses 10 trees and one that uses 20 trees are two different models. Using a few algorithms and important tuning paramters (hyperparamters) we will try many combination and select rank the models on some metric like AUC, mean residual deviance, RSME as approriate for the analysis.  \n",
        "\n",
        "_The machine learning algorithms_\n",
        "\n",
        "We will use the following algorithms as our base:\n",
        "\n",
        "* Deep Learning (Neural Networks)    \n",
        "* Generalized Linear Model (GLM)  \n",
        "* Extreme Random Forest (XRT) \n",
        "* Distributed Random Forest (DRF)     \n",
        "* Gradient Boosting Machine (GBM)     \n",
        "* XGBoost   \n",
        "\n",
        "\n",
        "_Deep Learning (Neural Networks)_  \n",
        "\n",
        "The are simple Multi-Layer Perceptrons (MLPs) as discussed in the first notebook.  \n",
        "\n",
        "\n",
        "_Generalized Linear Model (GLM)_   \n",
        "\n",
        "The generalized linear model (GLM) is a flexible generalization of ordinary linear regression that allows for response variables that have error distribution models other than a normal distribution. The GLM generalizes linear regression by allowing the linear model to be related to the response variable via a link function and by allowing the magnitude of the variance of each measurement to be a function of its predicted value.\n",
        "\n",
        "In our case, we will assume that the the distribution of errors is normal and that the link function is the identity, which means the we will be performing simple linear regression.   Linear regression predicts the response variable $y$ assuming it has a linear relationship with predictor variable(s) $x$ or $x_1, x_2, ,,, x_n$.\n",
        "\n",
        "$$y = \\beta_0 + \\beta_1 x + \\varepsilon .$$\n",
        "\n",
        "\n",
        "_Distributed Random Forest (DRF)_    \n",
        "\n",
        "A Distributed Random Forest (DRF) is a powerful low-bias classification and regression tool that can fit highly non-linear data. To prevent overfitting a DRF generates a forest of classification or regression trees, rather than a single classification or regression tree through a process called bagging. The variance of estimates can be adjusted by the number of trees used. \n",
        "\n",
        "_Extreme Random Forest (XRT)_\n",
        "\n",
        "Extreme random forests are nearly identical to standard random forests except that the splits, both attribute and cut-point, are chosen totally or partially at random. Bias/variance analysis has shown that XRTs work by decreasing variance while at the same time increasing bias. Once the randomization level is properly adjusted, the variance almost vanishes while bias only slightly increases with respect to standard trees. \n",
        "\n",
        "\n",
        "_Gradient Boosting Machine (GBM)_   \n",
        "\n",
        "Gradient Boosting Machine (for Regression and Classification) is a forward learning ensemble method. The guiding heuristic is that good predictive results can be obtained through increasingly refined approximations. Boosting can create more accurate models than bagging but doesn’t help to avoid overfitting as much as bagging does.\n",
        "\n",
        "Unlike a DRF which uses bagging to prevent overfitting, a GBM uses boosting to sequentially refine a regression or classification tree. However, as each tree is built in parallel it allows for multi-threading (asynchronous) training large data sets.\n",
        "\n",
        "As with all tree based methods it creates decision trees and is highly interpretable.\n",
        "\n",
        "\n",
        "_XGBoost_\n",
        "\n",
        "XGBoost is a supervised learning algorithm that implements a process called boosting to yield accurate models. Boosting refers to the ensemble learning technique of building many models sequentially, with each new model attempting to correct for the deficiencies in the previous model. \n",
        "\n",
        "Both XGBoost and GBM follows the principle of gradient boosting. However, XGBoost has a more regularized model formalization to control overfitting. Boosting does not prevent overfitting the way bagging does, but typically gives better accuracy. XGBoost corrects for the deficiencies of boosting by ensembling regularized trees.\n",
        "\n",
        "Like a GBM, each tree is built in parallel it allows for multi-threading (asynchronous) training large data sets.\n",
        "\n",
        "As with all tree based methods it creates decision trees and is highly interpretable."
      ]
    },
    {
      "cell_type": "code",
      "metadata": {
        "id": "MepHcu1EqCAM",
        "colab_type": "code",
        "colab": {}
      },
      "source": [
        "import h2o\n",
        "from h2o.automl import H2OAutoML"
      ],
      "execution_count": null,
      "outputs": []
    },
    {
      "cell_type": "code",
      "metadata": {
        "id": "MFvc_CxxqiYL",
        "colab_type": "code",
        "colab": {
          "base_uri": "https://localhost:8080/",
          "height": 508
        },
        "outputId": "b369ceba-9aea-4d49-be8d-bddbf59b4fbc"
      },
      "source": [
        "# Start H2O server\n",
        "h2o.init()"
      ],
      "execution_count": null,
      "outputs": [
        {
          "output_type": "stream",
          "text": [
            "Checking whether there is an H2O instance running at http://localhost:54321 ..... not found.\n",
            "Attempting to start a local H2O server...\n",
            "  Java Version: openjdk version \"11.0.8\" 2020-07-14; OpenJDK Runtime Environment (build 11.0.8+10-post-Ubuntu-0ubuntu118.04.1); OpenJDK 64-Bit Server VM (build 11.0.8+10-post-Ubuntu-0ubuntu118.04.1, mixed mode, sharing)\n",
            "  Starting server from /usr/local/lib/python3.6/dist-packages/h2o/backend/bin/h2o.jar\n",
            "  Ice root: /tmp/tmpvv6os38q\n",
            "  JVM stdout: /tmp/tmpvv6os38q/h2o_unknownUser_started_from_python.out\n",
            "  JVM stderr: /tmp/tmpvv6os38q/h2o_unknownUser_started_from_python.err\n",
            "  Server is running at http://127.0.0.1:54321\n",
            "Connecting to H2O server at http://127.0.0.1:54321 ... successful.\n"
          ],
          "name": "stdout"
        },
        {
          "output_type": "display_data",
          "data": {
            "text/html": [
              "<div style=\"overflow:auto\"><table style=\"width:50%\"><tr><td>H2O_cluster_uptime:</td>\n",
              "<td>03 secs</td></tr>\n",
              "<tr><td>H2O_cluster_timezone:</td>\n",
              "<td>Etc/UTC</td></tr>\n",
              "<tr><td>H2O_data_parsing_timezone:</td>\n",
              "<td>UTC</td></tr>\n",
              "<tr><td>H2O_cluster_version:</td>\n",
              "<td>3.30.1.2</td></tr>\n",
              "<tr><td>H2O_cluster_version_age:</td>\n",
              "<td>3 days </td></tr>\n",
              "<tr><td>H2O_cluster_name:</td>\n",
              "<td>H2O_from_python_unknownUser_wehljk</td></tr>\n",
              "<tr><td>H2O_cluster_total_nodes:</td>\n",
              "<td>1</td></tr>\n",
              "<tr><td>H2O_cluster_free_memory:</td>\n",
              "<td>3.180 Gb</td></tr>\n",
              "<tr><td>H2O_cluster_total_cores:</td>\n",
              "<td>2</td></tr>\n",
              "<tr><td>H2O_cluster_allowed_cores:</td>\n",
              "<td>2</td></tr>\n",
              "<tr><td>H2O_cluster_status:</td>\n",
              "<td>accepting new members, healthy</td></tr>\n",
              "<tr><td>H2O_connection_url:</td>\n",
              "<td>http://127.0.0.1:54321</td></tr>\n",
              "<tr><td>H2O_connection_proxy:</td>\n",
              "<td>{\"http\": null, \"https\": null}</td></tr>\n",
              "<tr><td>H2O_internal_security:</td>\n",
              "<td>False</td></tr>\n",
              "<tr><td>H2O_API_Extensions:</td>\n",
              "<td>Amazon S3, XGBoost, Algos, AutoML, Core V3, TargetEncoder, Core V4</td></tr>\n",
              "<tr><td>Python_version:</td>\n",
              "<td>3.6.9 final</td></tr></table></div>"
            ],
            "text/plain": [
              "--------------------------  ------------------------------------------------------------------\n",
              "H2O_cluster_uptime:         03 secs\n",
              "H2O_cluster_timezone:       Etc/UTC\n",
              "H2O_data_parsing_timezone:  UTC\n",
              "H2O_cluster_version:        3.30.1.2\n",
              "H2O_cluster_version_age:    3 days\n",
              "H2O_cluster_name:           H2O_from_python_unknownUser_wehljk\n",
              "H2O_cluster_total_nodes:    1\n",
              "H2O_cluster_free_memory:    3.180 Gb\n",
              "H2O_cluster_total_cores:    2\n",
              "H2O_cluster_allowed_cores:  2\n",
              "H2O_cluster_status:         accepting new members, healthy\n",
              "H2O_connection_url:         http://127.0.0.1:54321\n",
              "H2O_connection_proxy:       {\"http\": null, \"https\": null}\n",
              "H2O_internal_security:      False\n",
              "H2O_API_Extensions:         Amazon S3, XGBoost, Algos, AutoML, Core V3, TargetEncoder, Core V4\n",
              "Python_version:             3.6.9 final\n",
              "--------------------------  ------------------------------------------------------------------"
            ]
          },
          "metadata": {
            "tags": []
          }
        }
      ]
    },
    {
      "cell_type": "code",
      "metadata": {
        "id": "jy-oiiOPqpgW",
        "colab_type": "code",
        "colab": {
          "base_uri": "https://localhost:8080/",
          "height": 34
        },
        "outputId": "75e7902e-bbbb-45ea-b0ac-80033bb9a6d2"
      },
      "source": [
        "# conversion of pandas dataframe to h2o frame\n",
        "hf = h2o.H2OFrame(df)"
      ],
      "execution_count": null,
      "outputs": [
        {
          "output_type": "stream",
          "text": [
            "Parse progress: |█████████████████████████████████████████████████████████| 100%\n"
          ],
          "name": "stdout"
        }
      ]
    },
    {
      "cell_type": "code",
      "metadata": {
        "id": "IQYdcfWArjT-",
        "colab_type": "code",
        "colab": {
          "base_uri": "https://localhost:8080/",
          "height": 250
        },
        "outputId": "15b1a47a-223f-4b15-ffd4-9b0c7712f251"
      },
      "source": [
        "hf.head()"
      ],
      "execution_count": null,
      "outputs": [
        {
          "output_type": "display_data",
          "data": {
            "text/html": [
              "<table>\n",
              "<thead>\n",
              "<tr><th style=\"text-align: right;\">  BOROUGH</th><th>NEIGHBORHOOD  </th><th style=\"text-align: right;\">  RESIDENTIAL UNITS</th><th style=\"text-align: right;\">  COMMERCIAL UNITS</th><th style=\"text-align: right;\">  TOTAL UNITS</th><th style=\"text-align: right;\">  TAX CLASS AT TIME OF SALE</th><th style=\"text-align: right;\">      SALE PRICE</th></tr>\n",
              "</thead>\n",
              "<tbody>\n",
              "<tr><td style=\"text-align: right;\">        1</td><td>ALPHABET CITY </td><td style=\"text-align: right;\">                  5</td><td style=\"text-align: right;\">                 0</td><td style=\"text-align: right;\">            5</td><td style=\"text-align: right;\">                          2</td><td style=\"text-align: right;\">     6.625e+06  </td></tr>\n",
              "<tr><td style=\"text-align: right;\">        1</td><td>ALPHABET CITY </td><td style=\"text-align: right;\">                 28</td><td style=\"text-align: right;\">                 3</td><td style=\"text-align: right;\">           31</td><td style=\"text-align: right;\">                          2</td><td style=\"text-align: right;\">530000          </td></tr>\n",
              "<tr><td style=\"text-align: right;\">        1</td><td>ALPHABET CITY </td><td style=\"text-align: right;\">                 16</td><td style=\"text-align: right;\">                 1</td><td style=\"text-align: right;\">           17</td><td style=\"text-align: right;\">                          2</td><td style=\"text-align: right;\">530000          </td></tr>\n",
              "<tr><td style=\"text-align: right;\">        1</td><td>ALPHABET CITY </td><td style=\"text-align: right;\">                 10</td><td style=\"text-align: right;\">                 0</td><td style=\"text-align: right;\">           10</td><td style=\"text-align: right;\">                          2</td><td style=\"text-align: right;\">     3.93627e+06</td></tr>\n",
              "<tr><td style=\"text-align: right;\">        1</td><td>ALPHABET CITY </td><td style=\"text-align: right;\">                  6</td><td style=\"text-align: right;\">                 0</td><td style=\"text-align: right;\">            6</td><td style=\"text-align: right;\">                          2</td><td style=\"text-align: right;\">     8e+06      </td></tr>\n",
              "<tr><td style=\"text-align: right;\">        1</td><td>ALPHABET CITY </td><td style=\"text-align: right;\">                 20</td><td style=\"text-align: right;\">                 0</td><td style=\"text-align: right;\">           20</td><td style=\"text-align: right;\">                          2</td><td style=\"text-align: right;\">530000          </td></tr>\n",
              "<tr><td style=\"text-align: right;\">        1</td><td>ALPHABET CITY </td><td style=\"text-align: right;\">                  8</td><td style=\"text-align: right;\">                 0</td><td style=\"text-align: right;\">            8</td><td style=\"text-align: right;\">                          2</td><td style=\"text-align: right;\">     3.19284e+06</td></tr>\n",
              "<tr><td style=\"text-align: right;\">        1</td><td>ALPHABET CITY </td><td style=\"text-align: right;\">                 44</td><td style=\"text-align: right;\">                 2</td><td style=\"text-align: right;\">           46</td><td style=\"text-align: right;\">                          2</td><td style=\"text-align: right;\">530000          </td></tr>\n",
              "<tr><td style=\"text-align: right;\">        1</td><td>ALPHABET CITY </td><td style=\"text-align: right;\">                 15</td><td style=\"text-align: right;\">                 0</td><td style=\"text-align: right;\">           15</td><td style=\"text-align: right;\">                          2</td><td style=\"text-align: right;\">530000          </td></tr>\n",
              "<tr><td style=\"text-align: right;\">        1</td><td>ALPHABET CITY </td><td style=\"text-align: right;\">                 24</td><td style=\"text-align: right;\">                 0</td><td style=\"text-align: right;\">           24</td><td style=\"text-align: right;\">                          2</td><td style=\"text-align: right;\">     1.6232e+07 </td></tr>\n",
              "</tbody>\n",
              "</table>"
            ]
          },
          "metadata": {
            "tags": []
          }
        },
        {
          "output_type": "execute_result",
          "data": {
            "text/plain": [
              ""
            ]
          },
          "metadata": {
            "tags": []
          },
          "execution_count": 37
        }
      ]
    },
    {
      "cell_type": "code",
      "metadata": {
        "id": "j1_IYl5IrDve",
        "colab_type": "code",
        "colab": {
          "base_uri": "https://localhost:8080/",
          "height": 51
        },
        "outputId": "ccabbb3a-9a75-4f25-da8c-3980cd954400"
      },
      "source": [
        "# What does this do?\n",
        "pct_rows=0.80\n",
        "hf_train, hf_test = hf.split_frame([pct_rows])\n",
        "print(hf_train.shape)\n",
        "print(hf_test.shape)"
      ],
      "execution_count": null,
      "outputs": [
        {
          "output_type": "stream",
          "text": [
            "(67627, 7)\n",
            "(16921, 7)\n"
          ],
          "name": "stdout"
        }
      ]
    },
    {
      "cell_type": "markdown",
      "metadata": {
        "id": "zo8ZOdLlrw-Z",
        "colab_type": "text"
      },
      "source": [
        "## Test-train split versus cross validation\n",
        "\n",
        "Why would one want to take a test-train split? How does this relate to cross validation?\n"
      ]
    },
    {
      "cell_type": "code",
      "metadata": {
        "id": "F6IQScTSrE6f",
        "colab_type": "code",
        "colab": {}
      },
      "source": [
        "# Set up AutoML\n",
        "aml = H2OAutoML(max_runtime_secs=333)"
      ],
      "execution_count": null,
      "outputs": []
    },
    {
      "cell_type": "code",
      "metadata": {
        "id": "cEWj5t30sfM1",
        "colab_type": "code",
        "colab": {
          "base_uri": "https://localhost:8080/",
          "height": 34
        },
        "outputId": "3cb3ca1c-af38-498c-d96c-0d0334e982bf"
      },
      "source": [
        "aml.train(x=X,y=y,training_frame=hf_train)"
      ],
      "execution_count": null,
      "outputs": [
        {
          "output_type": "stream",
          "text": [
            "AutoML progress: |████████████████████████████████████████████████████████| 100%\n"
          ],
          "name": "stdout"
        }
      ]
    },
    {
      "cell_type": "code",
      "metadata": {
        "id": "0DzI8sFUu8Pz",
        "colab_type": "code",
        "colab": {
          "base_uri": "https://localhost:8080/",
          "height": 250
        },
        "outputId": "1a05c829-03e2-4826-e3b2-6c74819da445"
      },
      "source": [
        "aml.leaderboard"
      ],
      "execution_count": null,
      "outputs": [
        {
          "output_type": "display_data",
          "data": {
            "text/html": [
              "<table>\n",
              "<thead>\n",
              "<tr><th>model_id                                           </th><th style=\"text-align: right;\">  mean_residual_deviance</th><th style=\"text-align: right;\">       rmse</th><th style=\"text-align: right;\">        mse</th><th style=\"text-align: right;\">             mae</th><th style=\"text-align: right;\">    rmsle</th></tr>\n",
              "</thead>\n",
              "<tbody>\n",
              "<tr><td>XGBoost_grid__1_AutoML_20200907_175812_model_3     </td><td style=\"text-align: right;\">             1.22086e+14</td><td style=\"text-align: right;\">1.10493e+07</td><td style=\"text-align: right;\">1.22086e+14</td><td style=\"text-align: right;\">917250          </td><td style=\"text-align: right;\">nan      </td></tr>\n",
              "<tr><td>GBM_grid__1_AutoML_20200907_175812_model_2         </td><td style=\"text-align: right;\">             1.22569e+14</td><td style=\"text-align: right;\">1.10711e+07</td><td style=\"text-align: right;\">1.22569e+14</td><td style=\"text-align: right;\">     1.01855e+06</td><td style=\"text-align: right;\">nan      </td></tr>\n",
              "<tr><td>GBM_grid__1_AutoML_20200907_175812_model_1         </td><td style=\"text-align: right;\">             1.22586e+14</td><td style=\"text-align: right;\">1.10718e+07</td><td style=\"text-align: right;\">1.22586e+14</td><td style=\"text-align: right;\">     1.02945e+06</td><td style=\"text-align: right;\">nan      </td></tr>\n",
              "<tr><td>GBM_grid__1_AutoML_20200907_175812_model_3         </td><td style=\"text-align: right;\">             1.23695e+14</td><td style=\"text-align: right;\">1.11218e+07</td><td style=\"text-align: right;\">1.23695e+14</td><td style=\"text-align: right;\">     1.02343e+06</td><td style=\"text-align: right;\">nan      </td></tr>\n",
              "<tr><td>GBM_3_AutoML_20200907_175812                       </td><td style=\"text-align: right;\">             1.23961e+14</td><td style=\"text-align: right;\">1.11338e+07</td><td style=\"text-align: right;\">1.23961e+14</td><td style=\"text-align: right;\">     1.01756e+06</td><td style=\"text-align: right;\">nan      </td></tr>\n",
              "<tr><td>GBM_5_AutoML_20200907_175812                       </td><td style=\"text-align: right;\">             1.24152e+14</td><td style=\"text-align: right;\">1.11423e+07</td><td style=\"text-align: right;\">1.24152e+14</td><td style=\"text-align: right;\">     1.03101e+06</td><td style=\"text-align: right;\">  5.01339</td></tr>\n",
              "<tr><td>StackedEnsemble_BestOfFamily_AutoML_20200907_175812</td><td style=\"text-align: right;\">             1.24295e+14</td><td style=\"text-align: right;\">1.11488e+07</td><td style=\"text-align: right;\">1.24295e+14</td><td style=\"text-align: right;\">     1.07993e+06</td><td style=\"text-align: right;\">nan      </td></tr>\n",
              "<tr><td>GBM_4_AutoML_20200907_175812                       </td><td style=\"text-align: right;\">             1.25446e+14</td><td style=\"text-align: right;\">1.12003e+07</td><td style=\"text-align: right;\">1.25446e+14</td><td style=\"text-align: right;\">     1.0243e+06 </td><td style=\"text-align: right;\">nan      </td></tr>\n",
              "<tr><td>GBM_2_AutoML_20200907_175812                       </td><td style=\"text-align: right;\">             1.26207e+14</td><td style=\"text-align: right;\">1.12342e+07</td><td style=\"text-align: right;\">1.26207e+14</td><td style=\"text-align: right;\">     1.02313e+06</td><td style=\"text-align: right;\">nan      </td></tr>\n",
              "<tr><td>StackedEnsemble_AllModels_AutoML_20200907_175812   </td><td style=\"text-align: right;\">             1.26535e+14</td><td style=\"text-align: right;\">1.12488e+07</td><td style=\"text-align: right;\">1.26535e+14</td><td style=\"text-align: right;\">     1.07479e+06</td><td style=\"text-align: right;\">nan      </td></tr>\n",
              "</tbody>\n",
              "</table>"
            ]
          },
          "metadata": {
            "tags": []
          }
        },
        {
          "output_type": "execute_result",
          "data": {
            "text/plain": [
              ""
            ]
          },
          "metadata": {
            "tags": []
          },
          "execution_count": 41
        }
      ]
    },
    {
      "cell_type": "markdown",
      "metadata": {
        "id": "pHAcJgHZXSQj",
        "colab_type": "text"
      },
      "source": [
        "*Class Discussion*\n",
        "\n",
        "* What is the best metric to evaluate model performance?\n",
        "* Which one would choose over the other - Mean Residual Deviance / RMSE/ MAE / RMSLE?"
      ]
    },
    {
      "cell_type": "markdown",
      "metadata": {
        "id": "QG92v666vZV3",
        "colab_type": "text"
      },
      "source": [
        "## RSME comparison and understanding the leader board\n",
        "\n",
        "The best models after running for a little under 4 minutes is around 0.005 about half of that of the 0.010 RSME that we got our simple MLP in notebook one and a quarter of the  0.017 RSME that we got with a simple MLP with the same independent variables. \n",
        "\n",
        "When we run for a short time, under 10 minutes, our leaderboard will be biased towards tree-based methods as the deep learners take much more time to converge.  It is rare to see deep learners in the top 500 models when we run for less than 5 minutes.\n",
        "\n",
        "We should still plot the results but before we do that let's discuss a big advantage of these models, model interpretability.\n"
      ]
    },
    {
      "cell_type": "code",
      "metadata": {
        "id": "opJm6FBPvaJ8",
        "colab_type": "code",
        "colab": {
          "base_uri": "https://localhost:8080/",
          "height": 68
        },
        "outputId": "5c3de14f-9e19-441f-e2a4-831da0bd451c"
      },
      "source": [
        "# Get best GLM, GBM and XGBoost models\n",
        "model_index=0\n",
        "glm_index=0\n",
        "glm_model=''\n",
        "gbm_index=0\n",
        "gbm_model=''\n",
        "xgb_index=0\n",
        "xgb_model=''\n",
        "aml_leaderboard_df=aml.leaderboard.as_data_frame()\n",
        "models_dict={}\n",
        "for m in aml_leaderboard_df['model_id']:\n",
        "  models_dict[m]=model_index\n",
        "  if 'StackedEnsemble' not in m:\n",
        "    break \n",
        "  model_index=model_index+1  \n",
        "\n",
        "for m in aml_leaderboard_df['model_id']:\n",
        "  if 'GLM' in m:\n",
        "    models_dict[m]=glm_index\n",
        "    break  \n",
        "  glm_index=glm_index+1    \n",
        "\n",
        "for m in aml_leaderboard_df['model_id']:\n",
        "  if 'GBM' in m:\n",
        "    models_dict[m]=gbm_index\n",
        "    break  \n",
        "  gbm_index=gbm_index+1   \n",
        "\n",
        "for m in aml_leaderboard_df['model_id']:\n",
        "  if 'XGB' in m:\n",
        "    models_dict[m]=xgb_index\n",
        "    break  \n",
        "  xgb_index=xgb_index+1    \n",
        "models_dict"
      ],
      "execution_count": null,
      "outputs": [
        {
          "output_type": "execute_result",
          "data": {
            "text/plain": [
              "{'GBM_grid__1_AutoML_20200907_175812_model_2': 1,\n",
              " 'GLM_1_AutoML_20200907_175812': 13,\n",
              " 'XGBoost_grid__1_AutoML_20200907_175812_model_3': 0}"
            ]
          },
          "metadata": {
            "tags": []
          },
          "execution_count": 42
        }
      ]
    },
    {
      "cell_type": "markdown",
      "metadata": {
        "id": "TvaFUZvhwqKF",
        "colab_type": "text"
      },
      "source": [
        "## Examine the Best Model"
      ]
    },
    {
      "cell_type": "code",
      "metadata": {
        "id": "9JUqNJVfwrEh",
        "colab_type": "code",
        "colab": {
          "base_uri": "https://localhost:8080/",
          "height": 35
        },
        "outputId": "55a1e89b-184b-43b8-8fdc-d8d5dace4298"
      },
      "source": [
        "best_model = h2o.get_model(aml.leaderboard[model_index,'model_id'])\n",
        "best_model.algo"
      ],
      "execution_count": null,
      "outputs": [
        {
          "output_type": "execute_result",
          "data": {
            "application/vnd.google.colaboratory.intrinsic+json": {
              "type": "string"
            },
            "text/plain": [
              "'xgboost'"
            ]
          },
          "metadata": {
            "tags": []
          },
          "execution_count": 43
        }
      ]
    },
    {
      "cell_type": "markdown",
      "metadata": {
        "id": "W3xPj1FzxHeX",
        "colab_type": "text"
      },
      "source": [
        "## Variable importance plot\n",
        "\n",
        "Variable importance plots in tree-based methods provides a list of the most significant variables in descending order by a measure of the information in each variable. Remember that tree calculates the information content of each variable. A variable importance plot is just a bar chart of each variables information content in decreasing order.\n",
        "\n",
        "It can show actual information estimates or standardized plots like the one below. In a standardized plot the most important variable is always given a value of 1.0. The other variables scores represent their percentage of information relative to the most important variable.\n",
        "\n",
        "Notice that some varibales have almost no information content. Knowing this allows for feature selection by removing unimportant variables. This makes a model more effecient to run and helps prevent overfitting as the unimportant variables can fit noise and, as we saw in notebook one, make strange predictions."
      ]
    },
    {
      "cell_type": "code",
      "metadata": {
        "id": "sOET3z4LxKNJ",
        "colab_type": "code",
        "colab": {
          "base_uri": "https://localhost:8080/",
          "height": 612
        },
        "outputId": "6f8e73a7-7fbd-461d-9bb0-fd3d3c187f1f"
      },
      "source": [
        "if best_model.algo in ['gbm','drf','xrt','xgboost']:\n",
        "  best_model.varimp_plot()"
      ],
      "execution_count": null,
      "outputs": [
        {
          "output_type": "display_data",
          "data": {
            "image/png": "[encoded data removed]",
            "text/plain": [
              "<Figure size 1008x720 with 1 Axes>"
            ]
          },
          "metadata": {
            "tags": [],
            "needs_background": "light"
          }
        }
      ]
    },
    {
      "cell_type": "code",
      "metadata": {
        "id": "Qs-4olQPv2pT",
        "colab_type": "code",
        "colab": {
          "base_uri": "https://localhost:8080/",
          "height": 663
        },
        "outputId": "08660066-8e00-4f1a-b13e-82dc4764dcd3"
      },
      "source": [
        "if glm_index is not 0:\n",
        "  print(glm_index)\n",
        "  glm_model=h2o.get_model(aml.leaderboard[glm_index,'model_id'])\n",
        "  print(glm_model.algo) \n",
        "  print(glm_model.varimp_plot()) "
      ],
      "execution_count": null,
      "outputs": [
        {
          "output_type": "stream",
          "text": [
            "13\n",
            "glm\n"
          ],
          "name": "stdout"
        },
        {
          "output_type": "display_data",
          "data": {
            "image/png": "[encoded data removed]",
            "text/plain": [
              "<Figure size 1008x720 with 1 Axes>"
            ]
          },
          "metadata": {
            "tags": [],
            "needs_background": "light"
          }
        },
        {
          "output_type": "stream",
          "text": [
            "None\n"
          ],
          "name": "stdout"
        }
      ]
    },
    {
      "cell_type": "markdown",
      "metadata": {
        "id": "mSrXcPXDxV0q",
        "colab_type": "text"
      },
      "source": [
        "## Variable importance plot discussion\n",
        "\n",
        "*Class Discussion*\n",
        "\n",
        "* Which variables are important according to this plot?\n",
        "* Did correlation or other analysis agree that the same variables are important? If not, why not? \n",
        "* What is the value along the X axis on the variable importance graph?\n",
        "* How would you interpret the differentiation between the varaible importance results of GBM and GLM? How does it help you analyze it further?\n",
        "\n",
        "Write up your thoughts in the class notes."
      ]
    },
    {
      "cell_type": "code",
      "metadata": {
        "id": "3iP9Fhgvx4__",
        "colab_type": "code",
        "colab": {
          "base_uri": "https://localhost:8080/",
          "height": 646
        },
        "outputId": "cacb1e44-6b86-47ec-8232-e2ae4aeae86a"
      },
      "source": [
        "if glm_index is not 0:\n",
        "  print(glm_index)\n",
        "  glm_model=h2o.get_model(aml.leaderboard[glm_index,'model_id'])\n",
        "  print(glm_model.algo)\n",
        "glm_model.std_coef_plot()"
      ],
      "execution_count": null,
      "outputs": [
        {
          "output_type": "stream",
          "text": [
            "13\n",
            "glm\n"
          ],
          "name": "stdout"
        },
        {
          "output_type": "display_data",
          "data": {
            "image/png": "[encoded data removed]",
            "text/plain": [
              "<Figure size 1008x720 with 1 Axes>"
            ]
          },
          "metadata": {
            "tags": [],
            "needs_background": "light"
          }
        }
      ]
    },
    {
      "cell_type": "markdown",
      "metadata": {
        "id": "7YXi_uB-yClk",
        "colab_type": "text"
      },
      "source": [
        "## GLM variable importance plot discussion\n",
        "*Class Discussion* \n",
        "\n",
        "* Which variables are important according to the GLM variable importance plot? \n",
        "* Did correlation or other analysis agree that the same variables are important? If not, why not? \n",
        "* Can the GLM variable importance be negative? If so, why?  \n",
        "* Did the GLM variable importance plot create more variables? If so, why? \n",
        "\n",
        "Write up your thoughts in the class notes."
      ]
    },
    {
      "cell_type": "code",
      "metadata": {
        "id": "45tamEUJynmE",
        "colab_type": "code",
        "colab": {
          "base_uri": "https://localhost:8080/",
          "height": 34
        },
        "outputId": "53938699-144a-4d0f-96a9-403312a6d4eb"
      },
      "source": [
        "print(best_model.rmse(train = True))"
      ],
      "execution_count": null,
      "outputs": [
        {
          "output_type": "stream",
          "text": [
            "10506790.048429245\n"
          ],
          "name": "stdout"
        }
      ]
    },
    {
      "cell_type": "code",
      "metadata": {
        "id": "LQPGfcwBy2VL",
        "colab_type": "code",
        "colab": {}
      },
      "source": [
        "def model_performance_stats(perf):\n",
        "    d={}\n",
        "    try:    \n",
        "      d['mse']=perf.mse()\n",
        "    except:\n",
        "      pass      \n",
        "    try:    \n",
        "      d['rmse']=perf.rmse() \n",
        "    except:\n",
        "      pass      \n",
        "    try:    \n",
        "      d['null_degrees_of_freedom']=perf.null_degrees_of_freedom()\n",
        "    except:\n",
        "      pass      \n",
        "    try:    \n",
        "      d['residual_degrees_of_freedom']=perf.residual_degrees_of_freedom()\n",
        "    except:\n",
        "      pass      \n",
        "    try:    \n",
        "      d['residual_deviance']=perf.residual_deviance() \n",
        "    except:\n",
        "      pass      \n",
        "    try:    \n",
        "      d['null_deviance']=perf.null_deviance() \n",
        "    except:\n",
        "      pass      \n",
        "    try:    \n",
        "      d['aic']=perf.aic() \n",
        "    except:\n",
        "      pass      \n",
        "    try:\n",
        "      d['logloss']=perf.logloss() \n",
        "    except:\n",
        "      pass    \n",
        "    try:\n",
        "      d['auc']=perf.auc()\n",
        "    except:\n",
        "      pass  \n",
        "    try:\n",
        "      d['gini']=perf.gini()\n",
        "    except:\n",
        "      pass    \n",
        "    return d"
      ],
      "execution_count": null,
      "outputs": []
    },
    {
      "cell_type": "code",
      "metadata": {
        "id": "DQ0_uU02y3uq",
        "colab_type": "code",
        "colab": {
          "base_uri": "https://localhost:8080/",
          "height": 119
        },
        "outputId": "107baf8f-85f6-4a05-de55-98368dec2f14"
      },
      "source": [
        "mod_perf=best_model.model_performance(hf_test)\n",
        "stats_test={}\n",
        "stats_test=model_performance_stats(mod_perf)\n",
        "stats_test"
      ],
      "execution_count": null,
      "outputs": [
        {
          "output_type": "execute_result",
          "data": {
            "text/plain": [
              "{'mse': 66328596113242.68,\n",
              " 'null_degrees_of_freedom': None,\n",
              " 'null_deviance': None,\n",
              " 'residual_degrees_of_freedom': None,\n",
              " 'residual_deviance': None,\n",
              " 'rmse': 8144236.987787295}"
            ]
          },
          "metadata": {
            "tags": []
          },
          "execution_count": 50
        }
      ]
    },
    {
      "cell_type": "code",
      "metadata": {
        "id": "nho4SIh_zBjJ",
        "colab_type": "code",
        "colab": {
          "base_uri": "https://localhost:8080/",
          "height": 34
        },
        "outputId": "e4ba1bd1-2e50-4a24-e042-b40348367040"
      },
      "source": [
        "predictions = best_model.predict(hf_test)"
      ],
      "execution_count": null,
      "outputs": [
        {
          "output_type": "stream",
          "text": [
            "gbm prediction progress: |████████████████████████████████████████████████| 100%\n"
          ],
          "name": "stdout"
        }
      ]
    },
    {
      "cell_type": "code",
      "metadata": {
        "id": "XPteVY9hzJrW",
        "colab_type": "code",
        "colab": {
          "base_uri": "https://localhost:8080/",
          "height": 204
        },
        "outputId": "87c62004-7dd7-4fd9-c10f-260d378f57c7"
      },
      "source": [
        "y_pred=h2o.as_list(predictions)\n",
        "y_pred[0:5]"
      ],
      "execution_count": null,
      "outputs": [
        {
          "output_type": "execute_result",
          "data": {
            "text/html": [
              "<div>\n",
              "<style scoped>\n",
              "    .dataframe tbody tr th:only-of-type {\n",
              "        vertical-align: middle;\n",
              "    }\n",
              "\n",
              "    .dataframe tbody tr th {\n",
              "        vertical-align: top;\n",
              "    }\n",
              "\n",
              "    .dataframe thead th {\n",
              "        text-align: right;\n",
              "    }\n",
              "</style>\n",
              "<table border=\"1\" class=\"dataframe\">\n",
              "  <thead>\n",
              "    <tr style=\"text-align: right;\">\n",
              "      <th></th>\n",
              "      <th>predict</th>\n",
              "    </tr>\n",
              "  </thead>\n",
              "  <tbody>\n",
              "    <tr>\n",
              "      <th>0</th>\n",
              "      <td>6.987658e+06</td>\n",
              "    </tr>\n",
              "    <tr>\n",
              "      <th>1</th>\n",
              "      <td>2.332610e+06</td>\n",
              "    </tr>\n",
              "    <tr>\n",
              "      <th>2</th>\n",
              "      <td>1.142344e+07</td>\n",
              "    </tr>\n",
              "    <tr>\n",
              "      <th>3</th>\n",
              "      <td>2.375344e+06</td>\n",
              "    </tr>\n",
              "    <tr>\n",
              "      <th>4</th>\n",
              "      <td>1.074246e+07</td>\n",
              "    </tr>\n",
              "  </tbody>\n",
              "</table>\n",
              "</div>"
            ],
            "text/plain": [
              "        predict\n",
              "0  6.987658e+06\n",
              "1  2.332610e+06\n",
              "2  1.142344e+07\n",
              "3  2.375344e+06\n",
              "4  1.074246e+07"
            ]
          },
          "metadata": {
            "tags": []
          },
          "execution_count": 52
        }
      ]
    },
    {
      "cell_type": "code",
      "metadata": {
        "id": "AinkUo8UzWVr",
        "colab_type": "code",
        "colab": {
          "base_uri": "https://localhost:8080/",
          "height": 331
        },
        "outputId": "e40f1034-b24e-49d4-be32-68c3bc4ed15d"
      },
      "source": [
        "df_test=hf_test.as_data_frame()\n",
        "df_train=hf_train.as_data_frame()\n",
        "plt.figure(figsize=(10,5))\n",
        "plt.plot(y_pred, color='purple', label='Predicted SALE PRICE')\n",
        "plt.legend()\n",
        "plt.show()"
      ],
      "execution_count": null,
      "outputs": [
        {
          "output_type": "display_data",
          "data": {
            "image/png": "[encoded data removed]",
            "text/plain": [
              "<Figure size 720x360 with 1 Axes>"
            ]
          },
          "metadata": {
            "tags": [],
            "needs_background": "light"
          }
        }
      ]
    },
    {
      "cell_type": "code",
      "metadata": {
        "id": "5nqUvafb0Rvw",
        "colab_type": "code",
        "colab": {
          "base_uri": "https://localhost:8080/",
          "height": 331
        },
        "outputId": "e88eac8e-1f79-4eb8-fc51-2d4d1c259f5b"
      },
      "source": [
        "plt.figure(figsize=(10,5))\n",
        "plt.plot(df_test['SALE PRICE'], color='g', label='Actual SALE PRICE')\n",
        "plt.legend()\n",
        "plt.show()"
      ],
      "execution_count": null,
      "outputs": [
        {
          "output_type": "display_data",
          "data": {
            "image/png": "[encoded data removed]",
            "text/plain": [
              "<Figure size 720x360 with 1 Axes>"
            ]
          },
          "metadata": {
            "tags": [],
            "needs_background": "light"
          }
        }
      ]
    },
    {
      "cell_type": "code",
      "metadata": {
        "id": "WJJWJuN80_lt",
        "colab_type": "code",
        "colab": {
          "base_uri": "https://localhost:8080/",
          "height": 51
        },
        "outputId": "281de2ac-7f2f-4feb-c7d3-118ab5dcedbf"
      },
      "source": [
        "y_train_mean=df_train['SALE PRICE'].mean()\n",
        "print(y_train_mean)\n",
        "print(best_model.rmse(train = True))"
      ],
      "execution_count": null,
      "outputs": [
        {
          "output_type": "stream",
          "text": [
            "1141791.6748535242\n",
            "10506790.048429245\n"
          ],
          "name": "stdout"
        }
      ]
    },
    {
      "cell_type": "markdown",
      "metadata": {
        "id": "rz0Xgoyy2Wsv",
        "colab_type": "text"
      },
      "source": [
        "## RSME discussion\n",
        "\n",
        "Class Discussion\n",
        "\n",
        "Did the model do well? One can think of the error as the mean (null model) plus/minus RSME or the mean (null model) plus/minus MAE. Is this good?"
      ]
    },
    {
      "cell_type": "markdown",
      "metadata": {
        "id": "yVo9dTqk3OzB",
        "colab_type": "text"
      },
      "source": [
        "## To Do\n",
        "\n",
        "1. Complete your class notes and upload them by 11:59PM the day of the lecture. (5 points) TAs will rate the notes on a scale of 0-5  \n",
        "\n",
        "2. Weekly Quiz (25 points)\n",
        "The weekly quiz is due 11:59PM the day before the first class of the next week.  \n",
        "\n",
        "Q1 (5). Improve the error by at least 5% based on either RSME or MAE.  If your RSME is 100, then reducing it to 95 or less would be a 5% or more improvement.  \n",
        "\n",
        "Q2 (5). Engineer a feature that improves the error by at least 5% based on either RSME or MAE. You must show that the improvement is due to the engineered feature.  \n",
        "\n",
        "Q3 (10). Appropriately adjust the sale price such that it is adjusted for SALE DATE. How does this affect the models?  \n",
        "\n",
        "Q4 (5). Explain how a stacked ensemble works.  \n",
        "\n",
        "\n",
        "\n",
        "\n"
      ]
    }
  ]
}